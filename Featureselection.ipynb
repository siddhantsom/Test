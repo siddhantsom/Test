{
 "cells": [
  {
   "cell_type": "markdown",
   "metadata": {},
   "source": [
    "# PART 1"
   ]
  },
  {
   "cell_type": "code",
   "execution_count": 1,
   "metadata": {},
   "outputs": [],
   "source": [
    "import numpy as np\n",
    "import pandas as pd\n",
    "import matplotlib.pyplot as plt\n",
    "import seaborn as sns\n",
    "%matplotlib inline\n",
    "import random\n",
    "\n",
    "from sklearn.linear_model import LassoCV\n",
    "from sklearn.linear_model import Lasso, LogisticRegression, LogisticRegressionCV\n",
    "from sklearn.model_selection import train_test_split, StratifiedKFold, RepeatedStratifiedKFold, cross_val_score\n",
    "from sklearn.metrics import classification_report, confusion_matrix, mean_squared_error, mean_absolute_error, recall_score\n",
    "from sklearn.feature_selection import SelectKBest\n",
    "\n",
    "import warnings\n",
    "warnings.filterwarnings(\"ignore\")"
   ]
  },
  {
   "cell_type": "code",
   "execution_count": 199,
   "metadata": {},
   "outputs": [
    {
     "ename": "IndexError",
     "evalue": "list index out of range",
     "output_type": "error",
     "traceback": [
      "\u001b[1;31m---------------------------------------------------------------------------\u001b[0m",
      "\u001b[1;31mIndexError\u001b[0m                                Traceback (most recent call last)",
      "\u001b[1;32m<ipython-input-199-607da6df15aa>\u001b[0m in \u001b[0;36m<module>\u001b[1;34m\u001b[0m\n\u001b[0;32m      2\u001b[0m \u001b[1;32mfrom\u001b[0m \u001b[0mjupyterthemes\u001b[0m\u001b[1;33m.\u001b[0m\u001b[0mstylefx\u001b[0m \u001b[1;32mimport\u001b[0m \u001b[0mset_nb_theme\u001b[0m\u001b[1;33m\u001b[0m\u001b[1;33m\u001b[0m\u001b[0m\n\u001b[0;32m      3\u001b[0m \u001b[1;33m\u001b[0m\u001b[0m\n\u001b[1;32m----> 4\u001b[1;33m \u001b[0mset_nb_theme\u001b[0m\u001b[1;33m(\u001b[0m\u001b[1;34m'grade2'\u001b[0m\u001b[1;33m)\u001b[0m\u001b[1;33m\u001b[0m\u001b[1;33m\u001b[0m\u001b[0m\n\u001b[0m",
      "\u001b[1;32m~\\Anaconda3\\lib\\site-packages\\jupyterthemes\\stylefx.py\u001b[0m in \u001b[0;36mset_nb_theme\u001b[1;34m(name)\u001b[0m\n\u001b[0;32m    476\u001b[0m     \u001b[1;32mfrom\u001b[0m \u001b[0mIPython\u001b[0m\u001b[1;33m.\u001b[0m\u001b[0mcore\u001b[0m\u001b[1;33m.\u001b[0m\u001b[0mdisplay\u001b[0m \u001b[1;32mimport\u001b[0m \u001b[0mHTML\u001b[0m\u001b[1;33m\u001b[0m\u001b[1;33m\u001b[0m\u001b[0m\n\u001b[0;32m    477\u001b[0m     \u001b[0mstyles_dir\u001b[0m \u001b[1;33m=\u001b[0m \u001b[0mos\u001b[0m\u001b[1;33m.\u001b[0m\u001b[0mpath\u001b[0m\u001b[1;33m.\u001b[0m\u001b[0mjoin\u001b[0m\u001b[1;33m(\u001b[0m\u001b[0mpackage_dir\u001b[0m\u001b[1;33m,\u001b[0m \u001b[1;34m'styles/compiled/'\u001b[0m\u001b[1;33m)\u001b[0m\u001b[1;33m\u001b[0m\u001b[1;33m\u001b[0m\u001b[0m\n\u001b[1;32m--> 478\u001b[1;33m     \u001b[0mcss_path\u001b[0m \u001b[1;33m=\u001b[0m \u001b[0mglob\u001b[0m\u001b[1;33m(\u001b[0m\u001b[1;34m'{0}/{1}.css'\u001b[0m\u001b[1;33m.\u001b[0m\u001b[0mformat\u001b[0m\u001b[1;33m(\u001b[0m\u001b[0mstyles_dir\u001b[0m\u001b[1;33m,\u001b[0m \u001b[0mname\u001b[0m\u001b[1;33m)\u001b[0m\u001b[1;33m)\u001b[0m\u001b[1;33m[\u001b[0m\u001b[1;36m0\u001b[0m\u001b[1;33m]\u001b[0m\u001b[1;33m\u001b[0m\u001b[1;33m\u001b[0m\u001b[0m\n\u001b[0m\u001b[0;32m    479\u001b[0m     \u001b[0mcustomcss\u001b[0m \u001b[1;33m=\u001b[0m \u001b[0mopen\u001b[0m\u001b[1;33m(\u001b[0m\u001b[0mcss_path\u001b[0m\u001b[1;33m,\u001b[0m \u001b[1;34m\"r\"\u001b[0m\u001b[1;33m)\u001b[0m\u001b[1;33m.\u001b[0m\u001b[0mread\u001b[0m\u001b[1;33m(\u001b[0m\u001b[1;33m)\u001b[0m\u001b[1;33m\u001b[0m\u001b[1;33m\u001b[0m\u001b[0m\n\u001b[0;32m    480\u001b[0m \u001b[1;33m\u001b[0m\u001b[0m\n",
      "\u001b[1;31mIndexError\u001b[0m: list index out of range"
     ]
    }
   ],
   "source": [
    "import jupyterthemes as jt\n",
    "from jupyterthemes.stylefx import set_nb_theme\n",
    "\n",
    "set_nb_theme('grade2')"
   ]
  },
  {
   "cell_type": "code",
   "execution_count": 2,
   "metadata": {},
   "outputs": [],
   "source": [
    "def simulate_data(n, p, rng, *, sparsity=0.95, SNR=2.0, beta_scale=5.0):\n",
    "    \"\"\"Simulate data for Project 3, Part 1.\n",
    "\n",
    "    Parameters\n",
    "    ----------\n",
    "    n : int\n",
    "        Number of samples\n",
    "    p : int\n",
    "        Number of features\n",
    "    rng : numpy.random.Generator\n",
    "        Random number generator (e.g. from `numpy.random.default_rng`)\n",
    "    sparsity : float in (0, 1)\n",
    "        Percentage of zero elements in simulated regression coefficients\n",
    "    SNR : positive float\n",
    "        Signal-to-noise ratio (see explanation above)\n",
    "    beta_scale : float\n",
    "        Scaling for the coefficient to make sure they are large\n",
    "\n",
    "    Returns\n",
    "    -------\n",
    "    X : `n x p` numpy.array\n",
    "        Matrix of features\n",
    "    y : `n` numpy.array\n",
    "        Vector of responses\n",
    "    beta : `p` numpy.array\n",
    "        Vector of regression coefficients\n",
    "    \"\"\"\n",
    "    X = rng.standard_normal(size=(n, p))\n",
    "    \n",
    "    q = int(np.ceil((1.0 - sparsity) * p))\n",
    "    beta = np.zeros((p,), dtype=float)\n",
    "    beta[:q] = beta_scale * rng.standard_normal(size=(q,))\n",
    "    \n",
    "    sigma = np.sqrt(np.sum(np.square(X @ beta)) / (n - 1)) / SNR\n",
    "\n",
    "    y = X @ beta + sigma * rng.standard_normal(size=(n,))\n",
    "\n",
    "    # Shuffle columns so that non-zero features appear\n",
    "    # not simply in the first (1 - sparsity) * p columns\n",
    "    idx_col = rng.permutation(p)\n",
    "    \n",
    "    return X[:, idx_col], y, beta[idx_col]"
   ]
  },
  {
   "cell_type": "code",
   "execution_count": 3,
   "metadata": {},
   "outputs": [],
   "source": [
    "p = 1000\n",
    "n = [250, 500, 750]\n",
    "sparsity = [0.7, 0.85, 0.9, 0.99]\n",
    "\n"
   ]
  },
  {
   "cell_type": "code",
   "execution_count": 4,
   "metadata": {},
   "outputs": [],
   "source": [
    "mse_alpha_lse_test = []\n",
    "mse_alpha_min_test = []\n",
    "mse_alpha_lse_train = []\n",
    "mse_alpha_min_train = []\n",
    "sensitivity_alpha_lse = []\n",
    "sensitivity_alpha_min = []\n",
    "specificity_alpha_lse = []\n",
    "specificity_alpha_min = []\n",
    "\n",
    "for i in range(4):\n",
    "    for j in n:\n",
    "        for k in sparsity:\n",
    "            d = simulate_data(j, 1000, np.random.default_rng(), sparsity = k)\n",
    "            beta_true = d[2]\n",
    "            selected_features_true = []\n",
    "            for p in range(len(beta_true)):\n",
    "                if beta_true[p] != 0:\n",
    "                    selected_features_true.append(1)\n",
    "                else:\n",
    "                    selected_features_true.append(0)\n",
    "                \n",
    "                \n",
    "            X_train, X_test, y_train, y_test = train_test_split(d[0], d[1], test_size = 0.3)\n",
    "            lasso = LassoCV(cv=5, random_state=0).fit(X_train, y_train)\n",
    "            predictions = lasso.predict(X_test)\n",
    "            cv_mean = np.mean(lasso.mse_path_, axis=1)\n",
    "            cv_std = np.std(lasso.mse_path_, axis=1)\n",
    "            idx_min_mean = np.argmin(cv_mean)\n",
    "            idx_alpha = np.where(\n",
    "                (cv_mean <= cv_mean[idx_min_mean] + cv_std[idx_min_mean]) &\n",
    "                (cv_mean >= cv_mean[idx_min_mean]))[0][0]\n",
    "            alpha_lse = lasso.alphas_[idx_alpha].max()\n",
    "            alpha_min = lasso.alphas_[idx_min_mean]\n",
    "            \n",
    "            #Fitting lasso regression for alpha_lse\n",
    "            X_train2, X_test2, y_train2, y_test2 = train_test_split(d[0], d[1], test_size = 0.3)\n",
    "            lasso2 = Lasso(alpha = alpha_lse).fit(X_train2, y_train2)\n",
    "            predictions2 = lasso2.predict(X_test2)\n",
    "            mse2 = mean_squared_error(y_test2, predictions2) #Testing error\n",
    "            mse_alpha_lse_test.append(mse2)\n",
    "            preds2 = lasso2.predict(X_train2)\n",
    "            mse22 = mean_squared_error(y_train2, preds2) #Training error\n",
    "            mse_alpha_lse_train.append(mse22)\n",
    "            beta_est2 = lasso2.coef_\n",
    "            selected_features_est2 = []\n",
    "            for q in range(len(beta_est2)):\n",
    "                if beta_est2[q] != 0:\n",
    "                    selected_features_est2.append(1)\n",
    "                else:\n",
    "                    selected_features_est2.append(0)\n",
    "            sensitivity2 = []\n",
    "            for w in range(len(selected_features_true)):\n",
    "                if selected_features_true[w] == 1 and selected_features_est2[w] == 1:\n",
    "                    sensitivity2.append(1)\n",
    "                elif selected_features_true[w] == 1 and selected_features_est2[w] == 0:\n",
    "                    sensitivity2.append(0)\n",
    "                else:\n",
    "                    pass\n",
    "            sensitivity_alpha_lse.append(sum(sensitivity2)/len(sensitivity2))\n",
    "            \n",
    "            specificity2 = []\n",
    "            for w in range(len(selected_features_true)):\n",
    "                if selected_features_true[w] == 0 and selected_features_est2[w] == 0:\n",
    "                    specificity2.append(1)\n",
    "                elif selected_features_true[w] == 0 and selected_features_est2[w] == 1:\n",
    "                    specificity2.append(0)\n",
    "                else:\n",
    "                    pass\n",
    "            specificity_alpha_lse.append(sum(specificity2)/len(specificity2))\n",
    "            \n",
    "                    \n",
    "                    \n",
    "            \n",
    "            #Fitting lasso regression for alpha_min\n",
    "            X_train3, X_test3, y_train3, y_test3 = train_test_split(d[0], d[1], test_size = 0.3)\n",
    "            lasso3 = Lasso(alpha = alpha_min).fit(X_train3, y_train3)\n",
    "            predictions3 = lasso3.predict(X_test3)\n",
    "            mse3 = mean_squared_error(y_test3, predictions3)\n",
    "            mse_alpha_min_test.append(mse3)\n",
    "            preds3 = lasso2.predict(X_train3)\n",
    "            mse33 = mean_squared_error(y_train3, preds3)\n",
    "            mse_alpha_min_train.append(mse33)\n",
    "            beta_est3 = lasso3.coef_\n",
    "            selected_features_est3 = []\n",
    "            for r in range(len(beta_est3)):\n",
    "                if beta_est3[r] != 0:\n",
    "                    selected_features_est3.append(1)\n",
    "                else:\n",
    "                    selected_features_est3.append(0)\n",
    "            \n",
    "            sensitivity3 = []\n",
    "            for w in range(len(selected_features_true)):\n",
    "                if selected_features_true[w] == 1 and selected_features_est3[w] == 1:\n",
    "                    sensitivity3.append(1)\n",
    "                elif selected_features_true[w] == 1 and selected_features_est3[w] == 0:\n",
    "                    sensitivity3.append(0)\n",
    "                else:\n",
    "                    pass\n",
    "            sensitivity_alpha_min.append(sum(sensitivity3)/len(sensitivity3))\n",
    "            \n",
    "            specificity3 = []\n",
    "            for w in range(len(selected_features_true)):\n",
    "                if selected_features_true[w] == 0 and selected_features_est3[w] == 0:\n",
    "                    specificity3.append(1)\n",
    "                elif selected_features_true[w] == 0 and selected_features_est3[w] == 1:\n",
    "                    specificity3.append(0)\n",
    "                else:\n",
    "                    pass\n",
    "            specificity_alpha_min.append(sum(specificity3)/len(specificity3))\n",
    "            \n",
    "            \n",
    "            "
   ]
  },
  {
   "cell_type": "code",
   "execution_count": null,
   "metadata": {},
   "outputs": [],
   "source": []
  },
  {
   "cell_type": "code",
   "execution_count": 22,
   "metadata": {},
   "outputs": [
    {
     "data": {
      "text/plain": [
       "<matplotlib.axes._subplots.AxesSubplot at 0x2730ce92bc8>"
      ]
     },
     "execution_count": 22,
     "metadata": {},
     "output_type": "execute_result"
    },
    {
     "data": {
      "image/png": "[encoded data removed]",
      "text/plain": [
       "<Figure size 432x288 with 1 Axes>"
      ]
     },
     "metadata": {
      "needs_background": "light"
     },
     "output_type": "display_data"
    }
   ],
   "source": [
    "plt.title('Mean squared errors for alpha_lse on the test set')\n",
    "sns.kdeplot(data = mse_alpha_lse_test, shade = True)"
   ]
  },
  {
   "cell_type": "code",
   "execution_count": 23,
   "metadata": {},
   "outputs": [
    {
     "data": {
      "text/plain": [
       "<matplotlib.axes._subplots.AxesSubplot at 0x2730cc77508>"
      ]
     },
     "execution_count": 23,
     "metadata": {},
     "output_type": "execute_result"
    },
    {
     "data": {
      "image/png": "[encoded data removed]",
      "text/plain": [
       "<Figure size 432x288 with 1 Axes>"
      ]
     },
     "metadata": {
      "needs_background": "light"
     },
     "output_type": "display_data"
    }
   ],
   "source": [
    "plt.title('Mean squared errors for alpha_min on test set')\n",
    "sns.kdeplot(data = mse_alpha_min_test, shade = True)"
   ]
  },
  {
   "cell_type": "code",
   "execution_count": 24,
   "metadata": {},
   "outputs": [
    {
     "data": {
      "text/plain": [
       "<matplotlib.axes._subplots.AxesSubplot at 0x2730d0dcbc8>"
      ]
     },
     "execution_count": 24,
     "metadata": {},
     "output_type": "execute_result"
    },
    {
     "data": {
      "image/png": "[encoded data removed]",
      "text/plain": [
       "<Figure size 432x288 with 1 Axes>"
      ]
     },
     "metadata": {
      "needs_background": "light"
     },
     "output_type": "display_data"
    }
   ],
   "source": [
    "plt.title('Mean squared errors for alpha_lse on the training set')\n",
    "sns.kdeplot(data = mse_alpha_lse_train, shade = True)"
   ]
  },
  {
   "cell_type": "code",
   "execution_count": 25,
   "metadata": {},
   "outputs": [
    {
     "data": {
      "text/plain": [
       "<matplotlib.axes._subplots.AxesSubplot at 0x273159a3e48>"
      ]
     },
     "execution_count": 25,
     "metadata": {},
     "output_type": "execute_result"
    },
    {
     "data": {
      "image/png": "[encoded data removed]",
      "text/plain": [
       "<Figure size 432x288 with 1 Axes>"
      ]
     },
     "metadata": {
      "needs_background": "light"
     },
     "output_type": "display_data"
    }
   ],
   "source": [
    "plt.title('Mean squared errors for alpha_min on the training set')\n",
    "sns.kdeplot(data = mse_alpha_min_train, shade = True)"
   ]
  },
  {
   "cell_type": "code",
   "execution_count": null,
   "metadata": {},
   "outputs": [],
   "source": []
  },
  {
   "cell_type": "code",
   "execution_count": null,
   "metadata": {},
   "outputs": [],
   "source": []
  },
  {
   "cell_type": "markdown",
   "metadata": {},
   "source": [
    "#### We first compare sensitivity of alpha_lse and alpha_min"
   ]
  },
  {
   "cell_type": "code",
   "execution_count": 26,
   "metadata": {},
   "outputs": [
    {
     "name": "stdout",
     "output_type": "stream",
     "text": [
      "Maximum sensitivity of alpha_lse:  0.909\n",
      "Average sensitivity of alpha_lse:  0.332\n",
      "Maximum sensitivity of alpha_min:  1.0\n",
      "Average sensitivity of alpha_min:  0.479\n"
     ]
    }
   ],
   "source": [
    "l11 = max(sensitivity_alpha_lse)\n",
    "\n",
    "print(\"Maximum sensitivity of alpha_lse: \", round(l11,3))\n",
    "\n",
    "l1 = sum(sensitivity_alpha_lse)/len(sensitivity_alpha_lse)\n",
    "\n",
    "print(\"Average sensitivity of alpha_lse: \", round(l1,3))\n",
    "\n",
    "l22 = max(sensitivity_alpha_min)\n",
    "\n",
    "print(\"Maximum sensitivity of alpha_min: \", round(l22,3))\n",
    "\n",
    "l2 = sum(sensitivity_alpha_min)/len(sensitivity_alpha_min)\n",
    "\n",
    "print(\"Average sensitivity of alpha_min: \", round(l2,3))\n",
    "\n"
   ]
  },
  {
   "cell_type": "markdown",
   "metadata": {},
   "source": [
    "#### We now compare specificity of alpha_lse and alpha_min"
   ]
  },
  {
   "cell_type": "code",
   "execution_count": 27,
   "metadata": {},
   "outputs": [
    {
     "name": "stdout",
     "output_type": "stream",
     "text": [
      "Maximum specificity of alpha_lse:  1.0\n",
      "Average specificity of alpha_lse:  0.984\n",
      "Maximum specificity of alpha_min:  1.0\n",
      "Average specificity of alpha_min:  0.917\n"
     ]
    }
   ],
   "source": [
    "print(\"Maximum specificity of alpha_lse: \", max(specificity_alpha_lse))\n",
    "\n",
    "l3 = sum(specificity_alpha_lse)/len(specificity_alpha_lse)\n",
    "\n",
    "print(\"Average specificity of alpha_lse: \", round(l3,3))\n",
    "\n",
    "print(\"Maximum specificity of alpha_min: \", max(specificity_alpha_min))\n",
    "\n",
    "l4 = sum(specificity_alpha_min)/len(specificity_alpha_min)\n",
    "\n",
    "print(\"Average specificity of alpha_min: \", round(l4,3))"
   ]
  },
  {
   "cell_type": "markdown",
   "metadata": {},
   "source": [
    "#### We now plot sensitivty and specificity of alpha_lse"
   ]
  },
  {
   "cell_type": "code",
   "execution_count": 28,
   "metadata": {},
   "outputs": [
    {
     "data": {
      "text/plain": [
       "<matplotlib.axes._subplots.AxesSubplot at 0x27316dd2b88>"
      ]
     },
     "execution_count": 28,
     "metadata": {},
     "output_type": "execute_result"
    },
    {
     "data": {
      "image/png": "[encoded data removed]",
      "text/plain": [
       "<Figure size 576x432 with 1 Axes>"
      ]
     },
     "metadata": {
      "needs_background": "light"
     },
     "output_type": "display_data"
    }
   ],
   "source": [
    "plt.figure(figsize = (8,6))\n",
    "plt.xlabel('Sensitivity of alpha_lse')\n",
    "plt.ylabel('Specificity of alpha_lse')\n",
    "plt.title('Sensitivty vs Specificity of alpha_lse')\n",
    "sns.scatterplot(x = sensitivity_alpha_lse, y = specificity_alpha_lse)"
   ]
  },
  {
   "cell_type": "markdown",
   "metadata": {},
   "source": [
    "#### We now plot sensitivty and specificity of alpha_min"
   ]
  },
  {
   "cell_type": "code",
   "execution_count": 29,
   "metadata": {},
   "outputs": [
    {
     "data": {
      "text/plain": [
       "<matplotlib.axes._subplots.AxesSubplot at 0x27319621f48>"
      ]
     },
     "execution_count": 29,
     "metadata": {},
     "output_type": "execute_result"
    },
    {
     "data": {
      "image/png": "[encoded data removed]",
      "text/plain": [
       "<Figure size 576x432 with 1 Axes>"
      ]
     },
     "metadata": {
      "needs_background": "light"
     },
     "output_type": "display_data"
    }
   ],
   "source": [
    "plt.figure(figsize = (8,6))\n",
    "plt.xlabel('Sensitivity of alpha_min')\n",
    "plt.ylabel('Specificity of alpha_min')\n",
    "plt.title('Sensitivty vs Specificity of alpha_min')\n",
    "sns.scatterplot(x = sensitivity_alpha_min, y = specificity_alpha_min, color = 'r')"
   ]
  },
  {
   "cell_type": "markdown",
   "metadata": {},
   "source": [
    "#### We now try to see how different values of n affect the relationship between sensitivity and specificity. In order to check the influence of only n, we keep the other parameters as constant and repeat the experiment again. "
   ]
  },
  {
   "cell_type": "code",
   "execution_count": 5,
   "metadata": {},
   "outputs": [],
   "source": [
    "n2 = np.arange(100, 975, 25)"
   ]
  },
  {
   "cell_type": "code",
   "execution_count": 11,
   "metadata": {},
   "outputs": [
    {
     "data": {
      "text/plain": [
       "35"
      ]
     },
     "execution_count": 11,
     "metadata": {},
     "output_type": "execute_result"
    }
   ],
   "source": [
    "len(n2)"
   ]
  },
  {
   "cell_type": "code",
   "execution_count": 6,
   "metadata": {},
   "outputs": [],
   "source": [
    "mse_alpha_lse2_test = []\n",
    "mse_alpha_min2_test = []\n",
    "mse_alpha_lse2_train = []\n",
    "mse_alpha_min2_train = []\n",
    "sensitivity_alpha_lse2 = []\n",
    "sensitivity_alpha_min2 = []\n",
    "specificity_alpha_lse2 = []\n",
    "specificity_alpha_min2 = []\n",
    "\n",
    "#for i in range(4):\n",
    "for j in n2:\n",
    "        #for k in sparsity:\n",
    "            d = simulate_data(j, 1000, np.random.default_rng(), sparsity = 0.9)\n",
    "            beta_true = d[2]\n",
    "            selected_features_true = []\n",
    "            for p in range(len(beta_true)):\n",
    "                if beta_true[p] != 0:\n",
    "                    selected_features_true.append(1)\n",
    "                else:\n",
    "                    selected_features_true.append(0)\n",
    "                \n",
    "                \n",
    "            X_train, X_test, y_train, y_test = train_test_split(d[0], d[1], test_size = 0.3)\n",
    "            lasso = LassoCV(cv=5, random_state=0).fit(X_train, y_train)\n",
    "            predictions = lasso.predict(X_test)\n",
    "            cv_mean = np.mean(lasso.mse_path_, axis=1)\n",
    "            cv_std = np.std(lasso.mse_path_, axis=1)\n",
    "            idx_min_mean = np.argmin(cv_mean)\n",
    "            idx_alpha = np.where(\n",
    "                (cv_mean <= cv_mean[idx_min_mean] + cv_std[idx_min_mean]) &\n",
    "                (cv_mean >= cv_mean[idx_min_mean]))[0][0]\n",
    "            alpha_lse = lasso.alphas_[idx_alpha].max()\n",
    "            alpha_min = lasso.alphas_[idx_min_mean]\n",
    "            \n",
    "            #Fitting lasso regression for alpha_lse\n",
    "            X_train2, X_test2, y_train2, y_test2 = train_test_split(d[0], d[1], test_size = 0.3)\n",
    "            lasso2 = Lasso(alpha = alpha_lse).fit(X_train2, y_train2)\n",
    "            predictions2 = lasso2.predict(X_test2)\n",
    "            mse2 = mean_squared_error(y_test2, predictions2)\n",
    "            mse_alpha_lse2_test.append(mse2)\n",
    "            preds2 = lasso2.predict(X_train2)\n",
    "            mse22 = mean_squared_error(y_train2, preds2)\n",
    "            mse_alpha_lse2_train.append(mse22)\n",
    "            beta_est2 = lasso2.coef_\n",
    "            selected_features_est2 = []\n",
    "            for q in range(len(beta_est2)):\n",
    "                if beta_est2[q] != 0:\n",
    "                    selected_features_est2.append(1)\n",
    "                else:\n",
    "                    selected_features_est2.append(0)\n",
    "            sensitivity2 = []\n",
    "            for w in range(len(selected_features_true)):\n",
    "                if selected_features_true[w] == 1 and selected_features_est2[w] == 1:\n",
    "                    sensitivity2.append(1)\n",
    "                elif selected_features_true[w] == 1 and selected_features_est2[w] == 0:\n",
    "                    sensitivity2.append(0)\n",
    "                else:\n",
    "                    pass\n",
    "            sensitivity_alpha_lse2.append(sum(sensitivity2)/len(sensitivity2))\n",
    "            \n",
    "            specificity2 = []\n",
    "            for w in range(len(selected_features_true)):\n",
    "                if selected_features_true[w] == 0 and selected_features_est2[w] == 0:\n",
    "                    specificity2.append(1)\n",
    "                elif selected_features_true[w] == 0 and selected_features_est2[w] == 1:\n",
    "                    specificity2.append(0)\n",
    "                else:\n",
    "                    pass\n",
    "            specificity_alpha_lse2.append(sum(specificity2)/len(specificity2))\n",
    "            \n",
    "                    \n",
    "                    \n",
    "            \n",
    "            #Fitting lasso regression for alpha_min\n",
    "            X_train3, X_test3, y_train3, y_test3 = train_test_split(d[0], d[1], test_size = 0.3)\n",
    "            lasso3 = Lasso(alpha = alpha_min).fit(X_train3, y_train3)\n",
    "            predictions3 = lasso3.predict(X_test3)\n",
    "            mse3 = mean_squared_error(y_test3, predictions3)\n",
    "            mse_alpha_min2_test.append(mse3)\n",
    "            preds3 = lasso3.predict(X_train3)\n",
    "            mse33 = mean_squared_error(y_train3, preds3)\n",
    "            mse_alpha_min2_train.append(mse33)\n",
    "            \n",
    "            beta_est3 = lasso3.coef_\n",
    "            selected_features_est3 = []\n",
    "            for r in range(len(beta_est3)):\n",
    "                if beta_est3[r] != 0:\n",
    "                    selected_features_est3.append(1)\n",
    "                else:\n",
    "                    selected_features_est3.append(0)\n",
    "            \n",
    "            sensitivity3 = []\n",
    "            for w in range(len(selected_features_true)):\n",
    "                if selected_features_true[w] == 1 and selected_features_est3[w] == 1:\n",
    "                    sensitivity3.append(1)\n",
    "                elif selected_features_true[w] == 1 and selected_features_est3[w] == 0:\n",
    "                    sensitivity3.append(0)\n",
    "                else:\n",
    "                    pass\n",
    "            sensitivity_alpha_min2.append(sum(sensitivity3)/len(sensitivity3))\n",
    "            \n",
    "            specificity3 = []\n",
    "            for w in range(len(selected_features_true)):\n",
    "                if selected_features_true[w] == 0 and selected_features_est3[w] == 0:\n",
    "                    specificity3.append(1)\n",
    "                elif selected_features_true[w] == 0 and selected_features_est3[w] == 1:\n",
    "                    specificity3.append(0)\n",
    "                else:\n",
    "                    pass\n",
    "            specificity_alpha_min2.append(sum(specificity3)/len(specificity3))"
   ]
  },
  {
   "cell_type": "markdown",
   "metadata": {},
   "source": [
    "#### We now plot the sensitivity, specificty and mean square errors of alpha_lse against various values of n."
   ]
  },
  {
   "cell_type": "code",
   "execution_count": 32,
   "metadata": {},
   "outputs": [
    {
     "data": {
      "text/plain": [
       "<matplotlib.axes._subplots.AxesSubplot at 0x27316dc7508>"
      ]
     },
     "execution_count": 32,
     "metadata": {},
     "output_type": "execute_result"
    },
    {
     "data": {
      "image/png": "[encoded data removed]",
      "text/plain": [
       "<Figure size 576x432 with 1 Axes>"
      ]
     },
     "metadata": {
      "needs_background": "light"
     },
     "output_type": "display_data"
    }
   ],
   "source": [
    "plt.figure(figsize = (8,6))\n",
    "plt.xlabel('n values')\n",
    "plt.ylabel('MSE values')\n",
    "plt.title('MSE values for various values of n on the test set for alpha_lse')\n",
    "sns.scatterplot(x = n2, y = mse_alpha_lse2_test, color = 'g')"
   ]
  },
  {
   "cell_type": "code",
   "execution_count": 33,
   "metadata": {},
   "outputs": [
    {
     "data": {
      "text/plain": [
       "<matplotlib.axes._subplots.AxesSubplot at 0x27319621e48>"
      ]
     },
     "execution_count": 33,
     "metadata": {},
     "output_type": "execute_result"
    },
    {
     "data": {
      "image/png": "[encoded data removed]",
      "text/plain": [
       "<Figure size 576x432 with 1 Axes>"
      ]
     },
     "metadata": {
      "needs_background": "light"
     },
     "output_type": "display_data"
    }
   ],
   "source": [
    "plt.figure(figsize = (8,6))\n",
    "plt.xlabel('n values')\n",
    "plt.ylabel('MSE values')\n",
    "plt.title('MSE values for various values of n on the training set for alpha_lse')\n",
    "sns.scatterplot(x = n2, y = mse_alpha_lse2_train, color = 'black')"
   ]
  },
  {
   "cell_type": "code",
   "execution_count": 34,
   "metadata": {},
   "outputs": [
    {
     "data": {
      "text/plain": [
       "<matplotlib.axes._subplots.AxesSubplot at 0x2730a9bf388>"
      ]
     },
     "execution_count": 34,
     "metadata": {},
     "output_type": "execute_result"
    },
    {
     "data": {
      "image/png": "[encoded data removed]",
      "text/plain": [
       "<Figure size 576x432 with 1 Axes>"
      ]
     },
     "metadata": {
      "needs_background": "light"
     },
     "output_type": "display_data"
    }
   ],
   "source": [
    "plt.figure(figsize = (8,6))\n",
    "plt.xlabel('n values')\n",
    "plt.ylabel('Sensitivity of alpha_lse')\n",
    "plt.title('n values vs sensitivity for alpha_lse')\n",
    "sns.scatterplot(x = n2, y = sensitivity_alpha_lse2)"
   ]
  },
  {
   "cell_type": "code",
   "execution_count": 35,
   "metadata": {},
   "outputs": [
    {
     "data": {
      "text/plain": [
       "<matplotlib.axes._subplots.AxesSubplot at 0x2730a9bfc88>"
      ]
     },
     "execution_count": 35,
     "metadata": {},
     "output_type": "execute_result"
    },
    {
     "data": {
      "image/png": "[encoded data removed]",
      "text/plain": [
       "<Figure size 576x432 with 1 Axes>"
      ]
     },
     "metadata": {
      "needs_background": "light"
     },
     "output_type": "display_data"
    }
   ],
   "source": [
    "plt.figure(figsize = (8,6))\n",
    "plt.xlabel('n values')\n",
    "plt.ylabel('Specificity of alpha_lse')\n",
    "plt.title('n values vs specificity for alpha_lse')\n",
    "sns.scatterplot(x = n2, y = specificity_alpha_lse2, color = 'r')"
   ]
  },
  {
   "cell_type": "code",
   "execution_count": 150,
   "metadata": {},
   "outputs": [
    {
     "data": {
      "text/plain": [
       "<matplotlib.axes._subplots.AxesSubplot at 0x19e0a84dc48>"
      ]
     },
     "execution_count": 150,
     "metadata": {},
     "output_type": "execute_result"
    },
    {
     "data": {
      "image/png": "[encoded data removed]",
      "text/plain": [
       "<Figure size 576x432 with 1 Axes>"
      ]
     },
     "metadata": {
      "needs_background": "light"
     },
     "output_type": "display_data"
    }
   ],
   "source": [
    "plt.figure(figsize = (8,6))\n",
    "plt.xlabel('Sensitivity of alpha_lse')\n",
    "plt.ylabel('Specificity of alpha_lse')\n",
    "plt.title('Sensitivity vs Specificity')\n",
    "sns.scatterplot(x = sensitivity_alpha_lse2, y = specificity_alpha_lse2, hue = n2, palette = 'plasma', size = n2)"
   ]
  },
  {
   "cell_type": "code",
   "execution_count": 10,
   "metadata": {},
   "outputs": [
    {
     "data": {
      "text/plain": [
       "<matplotlib.axes._subplots.AxesSubplot at 0x21f204bdbc8>"
      ]
     },
     "execution_count": 10,
     "metadata": {},
     "output_type": "execute_result"
    },
    {
     "data": {
      "image/png": "[encoded data removed]",
      "text/plain": [
       "<Figure size 576x432 with 1 Axes>"
      ]
     },
     "metadata": {
      "needs_background": "light"
     },
     "output_type": "display_data"
    }
   ],
   "source": [
    "plt.figure(figsize = (8,6))\n",
    "plt.xlabel('Sensitivity of alpha_lse')\n",
    "plt.ylabel('Specificity of alpha_lse')\n",
    "plt.title('Sensitivity vs Specificity for alpha_lse')\n",
    "sns.scatterplot(x = sensitivity_alpha_lse2, y = specificity_alpha_lse2)"
   ]
  },
  {
   "cell_type": "markdown",
   "metadata": {},
   "source": [
    "#### We now plot the sensitivity, specificty and mean squared errors of alpha_min against various values of n."
   ]
  },
  {
   "cell_type": "code",
   "execution_count": 114,
   "metadata": {},
   "outputs": [
    {
     "data": {
      "text/plain": [
       "<matplotlib.axes._subplots.AxesSubplot at 0x19e0afd6c48>"
      ]
     },
     "execution_count": 114,
     "metadata": {},
     "output_type": "execute_result"
    },
    {
     "data": {
      "image/png": "[encoded data removed]",
      "text/plain": [
       "<Figure size 576x432 with 1 Axes>"
      ]
     },
     "metadata": {
      "needs_background": "light"
     },
     "output_type": "display_data"
    }
   ],
   "source": [
    "plt.figure(figsize = (8,6))\n",
    "plt.xlabel('n values')\n",
    "plt.ylabel('MSE values')\n",
    "plt.title('MSE values for various values of n on the test set for alpha_min')\n",
    "sns.scatterplot(x = n2, y = mse_alpha_min2_test, color = 'g')"
   ]
  },
  {
   "cell_type": "code",
   "execution_count": 115,
   "metadata": {},
   "outputs": [
    {
     "data": {
      "text/plain": [
       "<matplotlib.axes._subplots.AxesSubplot at 0x19e0beddd48>"
      ]
     },
     "execution_count": 115,
     "metadata": {},
     "output_type": "execute_result"
    },
    {
     "data": {
      "image/png": "[encoded data removed]",
      "text/plain": [
       "<Figure size 576x432 with 1 Axes>"
      ]
     },
     "metadata": {
      "needs_background": "light"
     },
     "output_type": "display_data"
    }
   ],
   "source": [
    "plt.figure(figsize = (8,6))\n",
    "plt.xlabel('n values')\n",
    "plt.ylabel('MSE values')\n",
    "plt.title('MSE values for various values of n on the training set for alpha_min')\n",
    "sns.scatterplot(x = n2, y = mse_alpha_min2_train, color = 'black')"
   ]
  },
  {
   "cell_type": "code",
   "execution_count": 36,
   "metadata": {},
   "outputs": [
    {
     "data": {
      "text/plain": [
       "<matplotlib.axes._subplots.AxesSubplot at 0x2730abdc408>"
      ]
     },
     "execution_count": 36,
     "metadata": {},
     "output_type": "execute_result"
    },
    {
     "data": {
      "image/png": "[encoded data removed]",
      "text/plain": [
       "<Figure size 576x432 with 1 Axes>"
      ]
     },
     "metadata": {
      "needs_background": "light"
     },
     "output_type": "display_data"
    }
   ],
   "source": [
    "plt.figure(figsize = (8,6))\n",
    "plt.xlabel('n values')\n",
    "plt.ylabel('Sensitivity of alpha_min')\n",
    "plt.title('n values vs sensitivity for alpha_min')\n",
    "sns.scatterplot(x = n2, y = sensitivity_alpha_min2)"
   ]
  },
  {
   "cell_type": "code",
   "execution_count": 11,
   "metadata": {},
   "outputs": [
    {
     "data": {
      "text/plain": [
       "<matplotlib.axes._subplots.AxesSubplot at 0x21f7fa13808>"
      ]
     },
     "execution_count": 11,
     "metadata": {},
     "output_type": "execute_result"
    },
    {
     "data": {
      "image/png": "[encoded data removed]",
      "text/plain": [
       "<Figure size 576x432 with 1 Axes>"
      ]
     },
     "metadata": {
      "needs_background": "light"
     },
     "output_type": "display_data"
    }
   ],
   "source": [
    "plt.figure(figsize = (8,6))\n",
    "plt.xlabel('n values')\n",
    "plt.ylabel('Specificity of alpha_min')\n",
    "plt.title('n values vs specificty for alpha_min')\n",
    "sns.scatterplot(x = n2, y = specificity_alpha_min2, color = 'r')"
   ]
  },
  {
   "cell_type": "code",
   "execution_count": 162,
   "metadata": {},
   "outputs": [
    {
     "data": {
      "text/plain": [
       "<matplotlib.axes._subplots.AxesSubplot at 0x19e0a9c1088>"
      ]
     },
     "execution_count": 162,
     "metadata": {},
     "output_type": "execute_result"
    },
    {
     "data": {
      "image/png": "[encoded data removed]",
      "text/plain": [
       "<Figure size 576x432 with 1 Axes>"
      ]
     },
     "metadata": {
      "needs_background": "light"
     },
     "output_type": "display_data"
    }
   ],
   "source": [
    "plt.figure(figsize = (8,6))\n",
    "plt.xlabel('Sensitivity of alpha_min')\n",
    "plt.ylabel('Specificity of alpha_min')\n",
    "plt.title('sensitivity vs specificty')\n",
    "sns.scatterplot(x = sensitivity_alpha_min2, y = specificity_alpha_min2, hue = n2,hue_order = [\"0\", \"300\", \"600\", \"900\", \"1000\"], palette = 'plasma', size = n2)"
   ]
  },
  {
   "cell_type": "code",
   "execution_count": 12,
   "metadata": {},
   "outputs": [
    {
     "data": {
      "text/plain": [
       "<matplotlib.axes._subplots.AxesSubplot at 0x21f2057d088>"
      ]
     },
     "execution_count": 12,
     "metadata": {},
     "output_type": "execute_result"
    },
    {
     "data": {
      "image/png": "[encoded data removed]",
      "text/plain": [
       "<Figure size 576x432 with 1 Axes>"
      ]
     },
     "metadata": {
      "needs_background": "light"
     },
     "output_type": "display_data"
    }
   ],
   "source": [
    "plt.figure(figsize = (8,6))\n",
    "plt.xlabel('Sensitivity of alpha_min')\n",
    "plt.ylabel('Specificity of alpha_min')\n",
    "plt.title('sensitivity vs specificty for alpha_min')\n",
    "sns.scatterplot(x = sensitivity_alpha_min2, y = specificity_alpha_min2)"
   ]
  },
  {
   "cell_type": "markdown",
   "metadata": {},
   "source": [
    "#### We now repeat the experiment again, but this time vary the sparsity values and keep everything else constant."
   ]
  },
  {
   "cell_type": "code",
   "execution_count": 7,
   "metadata": {},
   "outputs": [],
   "source": [
    "sparsity2 = np.linspace(0.5,1,num = 35, endpoint = False)"
   ]
  },
  {
   "cell_type": "code",
   "execution_count": null,
   "metadata": {},
   "outputs": [],
   "source": []
  },
  {
   "cell_type": "code",
   "execution_count": 8,
   "metadata": {},
   "outputs": [],
   "source": [
    "mse_alpha_lse3_test = []\n",
    "mse_alpha_min3_test = []\n",
    "mse_alpha_lse3_train = []\n",
    "mse_alpha_min3_train = []\n",
    "sensitivity_alpha_lse3 = []\n",
    "sensitivity_alpha_min3 = []\n",
    "specificity_alpha_lse3 = []\n",
    "specificity_alpha_min3 = []\n",
    "\n",
    "#for i in range(4):\n",
    "#for j in n2:\n",
    "for k in sparsity2:\n",
    "            d = simulate_data(500, 1000, np.random.default_rng(), sparsity = k)\n",
    "            beta_true = d[2]\n",
    "            selected_features_true = []\n",
    "            for p in range(len(beta_true)):\n",
    "                if beta_true[p] != 0:\n",
    "                    selected_features_true.append(1)\n",
    "                else:\n",
    "                    selected_features_true.append(0)\n",
    "                \n",
    "                \n",
    "            X_train, X_test, y_train, y_test = train_test_split(d[0], d[1], test_size = 0.3)\n",
    "            lasso = LassoCV(cv=5, random_state=0).fit(X_train, y_train)\n",
    "            predictions = lasso.predict(X_test)\n",
    "            cv_mean = np.mean(lasso.mse_path_, axis=1)\n",
    "            cv_std = np.std(lasso.mse_path_, axis=1)\n",
    "            idx_min_mean = np.argmin(cv_mean)\n",
    "            idx_alpha = np.where(\n",
    "                (cv_mean <= cv_mean[idx_min_mean] + cv_std[idx_min_mean]) &\n",
    "                (cv_mean >= cv_mean[idx_min_mean]))[0][0]\n",
    "            alpha_lse = lasso.alphas_[idx_alpha].max()\n",
    "            alpha_min = lasso.alphas_[idx_min_mean]\n",
    "            \n",
    "            #Fitting lasso regression for alpha_lse\n",
    "            X_train2, X_test2, y_train2, y_test2 = train_test_split(d[0], d[1], test_size = 0.3)\n",
    "            lasso2 = Lasso(alpha = alpha_lse).fit(X_train2, y_train2)\n",
    "            predictions2 = lasso2.predict(X_test2)\n",
    "            mse2 = mean_squared_error(y_test2, predictions2)\n",
    "            mse_alpha_lse3_test.append(mse2)\n",
    "            preds2 = lasso2.predict(X_train2)\n",
    "            mse22 = mean_squared_error(y_train2, preds2)\n",
    "            mse_alpha_lse3_train.append(mse22)\n",
    "            beta_est2 = lasso2.coef_\n",
    "            selected_features_est2 = []\n",
    "            for q in range(len(beta_est2)):\n",
    "                if beta_est2[q] != 0:\n",
    "                    selected_features_est2.append(1)\n",
    "                else:\n",
    "                    selected_features_est2.append(0)\n",
    "            sensitivity2 = []\n",
    "            for w in range(len(selected_features_true)):\n",
    "                if selected_features_true[w] == 1 and selected_features_est2[w] == 1:\n",
    "                    sensitivity2.append(1)\n",
    "                elif selected_features_true[w] == 1 and selected_features_est2[w] == 0:\n",
    "                    sensitivity2.append(0)\n",
    "                else:\n",
    "                    pass\n",
    "            sensitivity_alpha_lse3.append(sum(sensitivity2)/len(sensitivity2))\n",
    "            \n",
    "            specificity2 = []\n",
    "            for w in range(len(selected_features_true)):\n",
    "                if selected_features_true[w] == 0 and selected_features_est2[w] == 0:\n",
    "                    specificity2.append(1)\n",
    "                elif selected_features_true[w] == 0 and selected_features_est2[w] == 1:\n",
    "                    specificity2.append(0)\n",
    "                else:\n",
    "                    pass\n",
    "            specificity_alpha_lse3.append(sum(specificity2)/len(specificity2))\n",
    "            \n",
    "                    \n",
    "                    \n",
    "            \n",
    "            #Fitting lasso regression for alpha_min\n",
    "            X_train3, X_test3, y_train3, y_test3 = train_test_split(d[0], d[1], test_size = 0.3)\n",
    "            lasso3 = Lasso(alpha = alpha_min).fit(X_train3, y_train3)\n",
    "            predictions3 = lasso3.predict(X_test3)\n",
    "            mse3 = mean_squared_error(y_test3, predictions3)\n",
    "            mse_alpha_min3_test.append(mse3)\n",
    "            preds3 = lasso3.predict(X_train3)\n",
    "            mse33 = mean_squared_error(y_train3, preds3)\n",
    "            mse_alpha_min3_train.append(mse33)\n",
    "            beta_est3 = lasso3.coef_\n",
    "            selected_features_est3 = []\n",
    "            for r in range(len(beta_est3)):\n",
    "                if beta_est3[r] != 0:\n",
    "                    selected_features_est3.append(1)\n",
    "                else:\n",
    "                    selected_features_est3.append(0)\n",
    "            \n",
    "            sensitivity3 = []\n",
    "            for w in range(len(selected_features_true)):\n",
    "                if selected_features_true[w] == 1 and selected_features_est3[w] == 1:\n",
    "                    sensitivity3.append(1)\n",
    "                elif selected_features_true[w] == 1 and selected_features_est3[w] == 0:\n",
    "                    sensitivity3.append(0)\n",
    "                else:\n",
    "                    pass\n",
    "            sensitivity_alpha_min3.append(sum(sensitivity3)/len(sensitivity3))\n",
    "            \n",
    "            specificity3 = []\n",
    "            for w in range(len(selected_features_true)):\n",
    "                if selected_features_true[w] == 0 and selected_features_est3[w] == 0:\n",
    "                    specificity3.append(1)\n",
    "                elif selected_features_true[w] == 0 and selected_features_est3[w] == 1:\n",
    "                    specificity3.append(0)\n",
    "                else:\n",
    "                    pass\n",
    "            specificity_alpha_min3.append(sum(specificity3)/len(specificity3))"
   ]
  },
  {
   "cell_type": "markdown",
   "metadata": {},
   "source": [
    "#### We now plot the sensitivity and specificty of alpha_lse against various values of sparsity."
   ]
  },
  {
   "cell_type": "code",
   "execution_count": 40,
   "metadata": {},
   "outputs": [
    {
     "data": {
      "text/plain": [
       "<matplotlib.axes._subplots.AxesSubplot at 0x2730af1a388>"
      ]
     },
     "execution_count": 40,
     "metadata": {},
     "output_type": "execute_result"
    },
    {
     "data": {
      "image/png": "[encoded data removed]",
      "text/plain": [
       "<Figure size 576x432 with 1 Axes>"
      ]
     },
     "metadata": {
      "needs_background": "light"
     },
     "output_type": "display_data"
    }
   ],
   "source": [
    "plt.figure(figsize = (8,6))\n",
    "plt.xlabel('Sparsity values')\n",
    "plt.ylabel('MSE values')\n",
    "plt.title('MSE values for various values of sparsity on the test set for alpha_lse')\n",
    "sns.scatterplot(x = sparsity2, y = mse_alpha_lse3_test, color = 'g')"
   ]
  },
  {
   "cell_type": "code",
   "execution_count": 41,
   "metadata": {},
   "outputs": [
    {
     "data": {
      "text/plain": [
       "<matplotlib.axes._subplots.AxesSubplot at 0x2730af1ae48>"
      ]
     },
     "execution_count": 41,
     "metadata": {},
     "output_type": "execute_result"
    },
    {
     "data": {
      "image/png": "[encoded data removed]",
      "text/plain": [
       "<Figure size 576x432 with 1 Axes>"
      ]
     },
     "metadata": {
      "needs_background": "light"
     },
     "output_type": "display_data"
    }
   ],
   "source": [
    "plt.figure(figsize = (8,6))\n",
    "plt.xlabel('sparsity values')\n",
    "plt.ylabel('MSE values')\n",
    "plt.title('MSE values for various values of sparsity on the training set for alpha_lse')\n",
    "sns.scatterplot(x = sparsity2, y = mse_alpha_lse3_train, color = 'black')"
   ]
  },
  {
   "cell_type": "code",
   "execution_count": 44,
   "metadata": {},
   "outputs": [
    {
     "data": {
      "text/plain": [
       "<matplotlib.axes._subplots.AxesSubplot at 0x2730afeee48>"
      ]
     },
     "execution_count": 44,
     "metadata": {},
     "output_type": "execute_result"
    },
    {
     "data": {
      "image/png": "[encoded data removed]",
      "text/plain": [
       "<Figure size 576x432 with 1 Axes>"
      ]
     },
     "metadata": {
      "needs_background": "light"
     },
     "output_type": "display_data"
    }
   ],
   "source": [
    "plt.figure(figsize = (8,6))\n",
    "plt.xlabel('sparsity values')\n",
    "plt.ylabel('Sensitivity of alpha_lse')\n",
    "plt.title('sparsity values vs sensitivity for alpha_lse')\n",
    "sns.scatterplot(x = sparsity2, y = sensitivity_alpha_lse3)"
   ]
  },
  {
   "cell_type": "code",
   "execution_count": 45,
   "metadata": {},
   "outputs": [
    {
     "data": {
      "text/plain": [
       "<matplotlib.axes._subplots.AxesSubplot at 0x2730b172dc8>"
      ]
     },
     "execution_count": 45,
     "metadata": {},
     "output_type": "execute_result"
    },
    {
     "data": {
      "image/png": "[encoded data removed]",
      "text/plain": [
       "<Figure size 576x432 with 1 Axes>"
      ]
     },
     "metadata": {
      "needs_background": "light"
     },
     "output_type": "display_data"
    }
   ],
   "source": [
    "plt.figure(figsize = (8,6))\n",
    "plt.xlabel('sparsity values')\n",
    "plt.ylabel('Specificity of alpha_lse')\n",
    "plt.title('sparsity values vs specificity for alpha_lse')\n",
    "sns.scatterplot(x = sparsity2, y = specificity_alpha_lse3, color = 'r')"
   ]
  },
  {
   "cell_type": "code",
   "execution_count": 159,
   "metadata": {},
   "outputs": [
    {
     "data": {
      "text/plain": [
       "<matplotlib.axes._subplots.AxesSubplot at 0x19e0a2ec2c8>"
      ]
     },
     "execution_count": 159,
     "metadata": {},
     "output_type": "execute_result"
    },
    {
     "data": {
      "image/png": "[encoded data removed]",
      "text/plain": [
       "<Figure size 576x432 with 1 Axes>"
      ]
     },
     "metadata": {
      "needs_background": "light"
     },
     "output_type": "display_data"
    }
   ],
   "source": [
    "plt.figure(figsize = (8,6))\n",
    "plt.xlabel('Sensitivity of alpha_lse')\n",
    "plt.ylabel('Specificity of alpha_lse')\n",
    "plt.title('sensitivity vs specificity for alpha_lse')\n",
    "order = [\"0-0.4\", \"0.4-0.6\", \"0.6-0.8\", \"0.8-1.0\"]\n",
    "sns.scatterplot(x = sensitivity_alpha_lse3, y = specificity_alpha_lse3, hue_order = order, hue = sparsity2, palette = 'plasma', size = sparsity2)"
   ]
  },
  {
   "cell_type": "code",
   "execution_count": 13,
   "metadata": {},
   "outputs": [
    {
     "data": {
      "text/plain": [
       "<matplotlib.axes._subplots.AxesSubplot at 0x21f205d2148>"
      ]
     },
     "execution_count": 13,
     "metadata": {},
     "output_type": "execute_result"
    },
    {
     "data": {
      "image/png": "[encoded data removed]",
      "text/plain": [
       "<Figure size 576x432 with 1 Axes>"
      ]
     },
     "metadata": {
      "needs_background": "light"
     },
     "output_type": "display_data"
    }
   ],
   "source": [
    "plt.figure(figsize = (8,6))\n",
    "plt.xlabel('Sensitivity of alpha_lse')\n",
    "plt.ylabel('Specificity of alpha_lse')\n",
    "plt.title('sensitivity vs specificity for alpha_lse')\n",
    "order = [\"0-0.4\", \"0.4-0.6\", \"0.6-0.8\", \"0.8-1.0\"]\n",
    "sns.scatterplot(x = sensitivity_alpha_lse3, y = specificity_alpha_lse3)"
   ]
  },
  {
   "cell_type": "markdown",
   "metadata": {},
   "source": [
    "#### We now plot the sensitivity and specificty of alpha_min against various values of sparsity."
   ]
  },
  {
   "cell_type": "code",
   "execution_count": 42,
   "metadata": {},
   "outputs": [
    {
     "data": {
      "text/plain": [
       "<matplotlib.axes._subplots.AxesSubplot at 0x2730af88e88>"
      ]
     },
     "execution_count": 42,
     "metadata": {},
     "output_type": "execute_result"
    },
    {
     "data": {
      "image/png": "[encoded data removed]",
      "text/plain": [
       "<Figure size 576x432 with 1 Axes>"
      ]
     },
     "metadata": {
      "needs_background": "light"
     },
     "output_type": "display_data"
    }
   ],
   "source": [
    "plt.figure(figsize = (8,6))\n",
    "plt.xlabel('sparsity values')\n",
    "plt.ylabel('MSE values')\n",
    "plt.title('MSE values for various values of sparsity on the test set for alpha_min')\n",
    "sns.scatterplot(x = sparsity2, y = mse_alpha_min3_test, color = 'g')"
   ]
  },
  {
   "cell_type": "code",
   "execution_count": 43,
   "metadata": {},
   "outputs": [
    {
     "data": {
      "text/plain": [
       "<matplotlib.axes._subplots.AxesSubplot at 0x2730afd7b08>"
      ]
     },
     "execution_count": 43,
     "metadata": {},
     "output_type": "execute_result"
    },
    {
     "data": {
      "image/png": "[encoded data removed]",
      "text/plain": [
       "<Figure size 576x432 with 1 Axes>"
      ]
     },
     "metadata": {
      "needs_background": "light"
     },
     "output_type": "display_data"
    }
   ],
   "source": [
    "plt.figure(figsize = (8,6))\n",
    "plt.xlabel('sparsity values')\n",
    "plt.ylabel('MSE values')\n",
    "plt.title('MSE values for various values of sparsity on the training set for alpha_min')\n",
    "sns.scatterplot(x = sparsity2, y = mse_alpha_min3_train, color = 'black')"
   ]
  },
  {
   "cell_type": "code",
   "execution_count": 46,
   "metadata": {},
   "outputs": [
    {
     "data": {
      "text/plain": [
       "<matplotlib.axes._subplots.AxesSubplot at 0x2730b175dc8>"
      ]
     },
     "execution_count": 46,
     "metadata": {},
     "output_type": "execute_result"
    },
    {
     "data": {
      "image/png": "[encoded data removed]",
      "text/plain": [
       "<Figure size 576x432 with 1 Axes>"
      ]
     },
     "metadata": {
      "needs_background": "light"
     },
     "output_type": "display_data"
    }
   ],
   "source": [
    "plt.figure(figsize = (8,6))\n",
    "plt.xlabel('sparsity values')\n",
    "plt.ylabel('Sensitivity of alpha_min')\n",
    "plt.title('Sparsity vs sensitivity for alpha_min')\n",
    "sns.scatterplot(x = sparsity2, y = sensitivity_alpha_min3)"
   ]
  },
  {
   "cell_type": "code",
   "execution_count": 47,
   "metadata": {},
   "outputs": [
    {
     "data": {
      "text/plain": [
       "<matplotlib.axes._subplots.AxesSubplot at 0x2730aef7188>"
      ]
     },
     "execution_count": 47,
     "metadata": {},
     "output_type": "execute_result"
    },
    {
     "data": {
      "image/png": "[encoded data removed]",
      "text/plain": [
       "<Figure size 576x432 with 1 Axes>"
      ]
     },
     "metadata": {
      "needs_background": "light"
     },
     "output_type": "display_data"
    }
   ],
   "source": [
    "plt.figure(figsize = (8,6))\n",
    "plt.xlabel('sparsity values')\n",
    "plt.ylabel('Specificity of alpha_min')\n",
    "plt.title('Sparsity values vs specificity for alpha_min')\n",
    "sns.scatterplot(x = sparsity2, y = specificity_alpha_min3, color = 'r')"
   ]
  },
  {
   "cell_type": "code",
   "execution_count": 165,
   "metadata": {},
   "outputs": [
    {
     "data": {
      "text/plain": [
       "<matplotlib.axes._subplots.AxesSubplot at 0x19e0ad24408>"
      ]
     },
     "execution_count": 165,
     "metadata": {},
     "output_type": "execute_result"
    },
    {
     "data": {
      "image/png": "[encoded data removed]",
      "text/plain": [
       "<Figure size 576x432 with 1 Axes>"
      ]
     },
     "metadata": {
      "needs_background": "light"
     },
     "output_type": "display_data"
    }
   ],
   "source": [
    "plt.figure(figsize = (8,6))\n",
    "plt.xlabel('Sensitivity of alpha_min')\n",
    "plt.ylabel('Specificity of alpha_min')\n",
    "plt.title('sensitivity vs specificity for alpha_min')\n",
    "sns.scatterplot(x = sensitivity_alpha_min3, y = specificity_alpha_min3, hue = sparsity2, palette = 'plasma', size = sparsity2)"
   ]
  },
  {
   "cell_type": "code",
   "execution_count": 14,
   "metadata": {},
   "outputs": [
    {
     "data": {
      "text/plain": [
       "<matplotlib.axes._subplots.AxesSubplot at 0x21f2064a0c8>"
      ]
     },
     "execution_count": 14,
     "metadata": {},
     "output_type": "execute_result"
    },
    {
     "data": {
      "image/png": "[encoded data removed]",
      "text/plain": [
       "<Figure size 576x432 with 1 Axes>"
      ]
     },
     "metadata": {
      "needs_background": "light"
     },
     "output_type": "display_data"
    }
   ],
   "source": [
    "plt.figure(figsize = (8,6))\n",
    "plt.xlabel('Sensitivity of alpha_min')\n",
    "plt.ylabel('Specificity of alpha_min')\n",
    "plt.title('sensitivity vs specificity for alpha_min')\n",
    "sns.scatterplot(x = sensitivity_alpha_min3, y = specificity_alpha_min3)"
   ]
  },
  {
   "cell_type": "markdown",
   "metadata": {},
   "source": [
    "# PART 2"
   ]
  },
  {
   "cell_type": "markdown",
   "metadata": {},
   "source": [
    "#### We use the gene expression dataset again. "
   ]
  },
  {
   "cell_type": "code",
   "execution_count": 160,
   "metadata": {},
   "outputs": [],
   "source": [
    "data = pd.read_csv(\"E:\\Masters\\Lp4\\Statistical Learning for Big Data\\Project 2\\TCGA-PANCAN-HiSeq-801x20531\\data.csv\", index_col = 0)"
   ]
  },
  {
   "cell_type": "code",
   "execution_count": 161,
   "metadata": {},
   "outputs": [],
   "source": [
    "labels = pd.read_csv(\"E:\\Masters\\Lp4\\Statistical Learning for Big Data\\Project 2\\TCGA-PANCAN-HiSeq-801x20531\\labels.csv\", index_col = 0)"
   ]
  },
  {
   "cell_type": "markdown",
   "metadata": {},
   "source": [
    "#### We perform feature reduction based on the f-score and reduce the number of features to 200."
   ]
  },
  {
   "cell_type": "code",
   "execution_count": 4,
   "metadata": {},
   "outputs": [
    {
     "data": {
      "text/html": [
       "<div>\n",
       "<style scoped>\n",
       "    .dataframe tbody tr th:only-of-type {\n",
       "        vertical-align: middle;\n",
       "    }\n",
       "\n",
       "    .dataframe tbody tr th {\n",
       "        vertical-align: top;\n",
       "    }\n",
       "\n",
       "    .dataframe thead th {\n",
       "        text-align: right;\n",
       "    }\n",
       "</style>\n",
       "<table border=\"1\" class=\"dataframe\">\n",
       "  <thead>\n",
       "    <tr style=\"text-align: right;\">\n",
       "      <th></th>\n",
       "      <th>Class</th>\n",
       "    </tr>\n",
       "  </thead>\n",
       "  <tbody>\n",
       "    <tr>\n",
       "      <td>sample_0</td>\n",
       "      <td>PRAD</td>\n",
       "    </tr>\n",
       "    <tr>\n",
       "      <td>sample_1</td>\n",
       "      <td>LUAD</td>\n",
       "    </tr>\n",
       "    <tr>\n",
       "      <td>sample_2</td>\n",
       "      <td>PRAD</td>\n",
       "    </tr>\n",
       "    <tr>\n",
       "      <td>sample_3</td>\n",
       "      <td>PRAD</td>\n",
       "    </tr>\n",
       "    <tr>\n",
       "      <td>sample_4</td>\n",
       "      <td>BRCA</td>\n",
       "    </tr>\n",
       "    <tr>\n",
       "      <td>...</td>\n",
       "      <td>...</td>\n",
       "    </tr>\n",
       "    <tr>\n",
       "      <td>sample_796</td>\n",
       "      <td>BRCA</td>\n",
       "    </tr>\n",
       "    <tr>\n",
       "      <td>sample_797</td>\n",
       "      <td>LUAD</td>\n",
       "    </tr>\n",
       "    <tr>\n",
       "      <td>sample_798</td>\n",
       "      <td>COAD</td>\n",
       "    </tr>\n",
       "    <tr>\n",
       "      <td>sample_799</td>\n",
       "      <td>PRAD</td>\n",
       "    </tr>\n",
       "    <tr>\n",
       "      <td>sample_800</td>\n",
       "      <td>PRAD</td>\n",
       "    </tr>\n",
       "  </tbody>\n",
       "</table>\n",
       "<p>801 rows × 1 columns</p>\n",
       "</div>"
      ],
      "text/plain": [
       "           Class\n",
       "sample_0    PRAD\n",
       "sample_1    LUAD\n",
       "sample_2    PRAD\n",
       "sample_3    PRAD\n",
       "sample_4    BRCA\n",
       "...          ...\n",
       "sample_796  BRCA\n",
       "sample_797  LUAD\n",
       "sample_798  COAD\n",
       "sample_799  PRAD\n",
       "sample_800  PRAD\n",
       "\n",
       "[801 rows x 1 columns]"
      ]
     },
     "execution_count": 4,
     "metadata": {},
     "output_type": "execute_result"
    }
   ],
   "source": [
    "labels"
   ]
  },
  {
   "cell_type": "code",
   "execution_count": 162,
   "metadata": {},
   "outputs": [],
   "source": [
    "data_new = SelectKBest(k = 200).fit_transform(data, labels)"
   ]
  },
  {
   "cell_type": "code",
   "execution_count": 6,
   "metadata": {},
   "outputs": [
    {
     "data": {
      "text/plain": [
       "(801, 20531)"
      ]
     },
     "execution_count": 6,
     "metadata": {},
     "output_type": "execute_result"
    }
   ],
   "source": [
    "data.shape"
   ]
  },
  {
   "cell_type": "code",
   "execution_count": 7,
   "metadata": {},
   "outputs": [
    {
     "data": {
      "text/plain": [
       "(801, 200)"
      ]
     },
     "execution_count": 7,
     "metadata": {},
     "output_type": "execute_result"
    }
   ],
   "source": [
    "data_new.shape"
   ]
  },
  {
   "cell_type": "code",
   "execution_count": 188,
   "metadata": {},
   "outputs": [
    {
     "data": {
      "text/plain": [
       "801"
      ]
     },
     "execution_count": 188,
     "metadata": {},
     "output_type": "execute_result"
    }
   ],
   "source": [
    "len(data_new)"
   ]
  },
  {
   "cell_type": "code",
   "execution_count": 8,
   "metadata": {},
   "outputs": [
    {
     "data": {
      "text/plain": [
       "(801, 1)"
      ]
     },
     "execution_count": 8,
     "metadata": {},
     "output_type": "execute_result"
    }
   ],
   "source": [
    "labels.shape"
   ]
  },
  {
   "cell_type": "code",
   "execution_count": 195,
   "metadata": {},
   "outputs": [
    {
     "data": {
      "text/plain": [
       "<matplotlib.axes._subplots.AxesSubplot at 0x21f20623308>"
      ]
     },
     "execution_count": 195,
     "metadata": {},
     "output_type": "execute_result"
    },
    {
     "data": {
      "image/png": "[encoded data removed]",
      "text/plain": [
       "<Figure size 576x432 with 1 Axes>"
      ]
     },
     "metadata": {
      "needs_background": "light"
     },
     "output_type": "display_data"
    }
   ],
   "source": [
    "plt.figure(figsize = (8,6))\n",
    "sns.countplot(x = 'Class', data = labels)"
   ]
  },
  {
   "cell_type": "code",
   "execution_count": 17,
   "metadata": {},
   "outputs": [],
   "source": [
    "data_new_withlabels = pd.concat([pd.DataFrame(data_new), labels])"
   ]
  },
  {
   "cell_type": "markdown",
   "metadata": {},
   "source": [
    "### Our next objective is to fit a multi-class logistic regression model and determine suitable hyperparameters for each class. There are 5 classes, so we should obtain 5 sets of hyperparameters."
   ]
  },
  {
   "cell_type": "code",
   "execution_count": 200,
   "metadata": {},
   "outputs": [],
   "source": [
    "X_train, X_test, y_train, y_test = train_test_split(data_new, labels, test_size = 0.3)"
   ]
  },
  {
   "cell_type": "code",
   "execution_count": 39,
   "metadata": {},
   "outputs": [],
   "source": [
    "#model2 = LogisticRegression(penalty = 'l1', multi_class = 'ovr', solver = 'liblinear', intercept_scaling = 10000)"
   ]
  },
  {
   "cell_type": "code",
   "execution_count": 40,
   "metadata": {},
   "outputs": [
    {
     "data": {
      "text/plain": [
       "LogisticRegression(C=1.0, class_weight=None, dual=False, fit_intercept=True,\n",
       "                   intercept_scaling=10000, l1_ratio=None, max_iter=100,\n",
       "                   multi_class='ovr', n_jobs=None, penalty='l1',\n",
       "                   random_state=None, solver='liblinear', tol=0.0001, verbose=0,\n",
       "                   warm_start=False)"
      ]
     },
     "execution_count": 40,
     "metadata": {},
     "output_type": "execute_result"
    }
   ],
   "source": [
    "#model2.fit(X_train, np.asarray(y_train).ravel())"
   ]
  },
  {
   "cell_type": "code",
   "execution_count": null,
   "metadata": {},
   "outputs": [],
   "source": []
  },
  {
   "cell_type": "code",
   "execution_count": 41,
   "metadata": {},
   "outputs": [],
   "source": [
    "y_preds = model.predict(X_test)"
   ]
  },
  {
   "cell_type": "code",
   "execution_count": 47,
   "metadata": {},
   "outputs": [
    {
     "data": {
      "text/plain": [
       "0.995850622406639"
      ]
     },
     "execution_count": 47,
     "metadata": {},
     "output_type": "execute_result"
    }
   ],
   "source": [
    "#model.score(X_test, y_test)"
   ]
  },
  {
   "cell_type": "code",
   "execution_count": 48,
   "metadata": {},
   "outputs": [],
   "source": [
    "#cm = confusion_matrix(y_test, y_preds)"
   ]
  },
  {
   "cell_type": "code",
   "execution_count": 164,
   "metadata": {},
   "outputs": [],
   "source": [
    "# C_values = np.logspace(-4, 4, 30)\n",
    "# model = LogisticRegressionCV(cv = 5,penalty = 'l1', multi_class = 'ovr', solver = 'liblinear', intercept_scaling = 10000, \n",
    "#                              Cs = C_values, scoring = 'f1_micro')\n",
    "# model.fit(X_train, y_train)"
   ]
  },
  {
   "cell_type": "code",
   "execution_count": null,
   "metadata": {},
   "outputs": [],
   "source": []
  },
  {
   "cell_type": "code",
   "execution_count": 201,
   "metadata": {},
   "outputs": [],
   "source": [
    "# model = LogisticRegressionCV(cv = 5,penalty = 'l1', multi_class = 'ovr', solver = 'liblinear', intercept_scaling = 10000, Cs = C_values, scoring = 'roc_auc')"
   ]
  },
  {
   "cell_type": "code",
   "execution_count": 354,
   "metadata": {},
   "outputs": [],
   "source": [
    "# model.fit(X_train, y_train)"
   ]
  },
  {
   "cell_type": "code",
   "execution_count": 353,
   "metadata": {},
   "outputs": [],
   "source": [
    "# model.scores_ "
   ]
  },
  {
   "cell_type": "code",
   "execution_count": 209,
   "metadata": {},
   "outputs": [
    {
     "data": {
      "text/plain": [
       "array([3.45510729e-02, 1.91448198e-02, 1.06081836e-02, 5.22334507e+05,\n",
       "       3.25702066e-03])"
      ]
     },
     "execution_count": 209,
     "metadata": {},
     "output_type": "execute_result"
    }
   ],
   "source": [
    "# model.C_"
   ]
  },
  {
   "cell_type": "code",
   "execution_count": null,
   "metadata": {},
   "outputs": [],
   "source": [
    "#for i in C_values:\n",
    "    \n",
    "    #model = LogisticRegression(C = i, penalty = 'l1', multi_class = 'ovr', solver = 'liblinear', intercept_scaling = 10000)"
   ]
  },
  {
   "cell_type": "code",
   "execution_count": 10,
   "metadata": {},
   "outputs": [],
   "source": [
    "#kfold = StratifiedKFold(n_splits = 5)"
   ]
  },
  {
   "cell_type": "code",
   "execution_count": 12,
   "metadata": {},
   "outputs": [],
   "source": [
    "#for j in C_values:\n",
    "#     #for train_index, test_index in skf.split(data_new,labels):\n",
    "#         X_train, X_test = data_new[train_index], labels[test_index]\n",
    "#         y_train, y_test = y[train_index], y[test_index]\n",
    "#         logReg = LogisticRegression(penalty='l1', multi_class='ovr', solver='liblinear', intercept_scaling=10000, C=C[j]).fit(X_train, np.ravel(y_train))\n",
    "#         #mse_path[j,i] = logReg.score(X_test, y_test)\n",
    "#         #temp[i,:,:] = logReg.coef_"
   ]
  },
  {
   "cell_type": "code",
   "execution_count": 146,
   "metadata": {},
   "outputs": [],
   "source": [
    "# cv_mean1 = np.mean(model.scores_['BRCA'], axis=1)\n",
    "# cv_mean2 = np.mean(model.scores_['LUAD'], axis=1)\n",
    "# cv_mean3 = np.mean(model.scores_['PRAD'], axis=1)\n",
    "# cv_mean4 = np.mean(model.scores_['KIRC'], axis=1)\n",
    "# cv_mean5 = np.mean(model.scores_['COAD'], axis=1)\n",
    "\n",
    "# cv_std1 = np.std(model.scores_['BRCA'], axis=1)\n",
    "# cv_std2 = np.std(model.scores_['LUAD'], axis=1)\n",
    "# cv_std3 = np.std(model.scores_['PRAD'], axis=1)\n",
    "# cv_std4 = np.std(model.scores_['KIRC'], axis=1)\n",
    "# cv_std5 = np.std(model.scores_['COAD'], axis=1)"
   ]
  },
  {
   "cell_type": "code",
   "execution_count": 147,
   "metadata": {},
   "outputs": [
    {
     "data": {
      "text/plain": [
       "array([0.93328878, 0.93322042, 0.9328524 , 0.93250887, 0.93321256])"
      ]
     },
     "execution_count": 147,
     "metadata": {},
     "output_type": "execute_result"
    }
   ],
   "source": [
    "# cv_mean1"
   ]
  },
  {
   "cell_type": "code",
   "execution_count": 148,
   "metadata": {},
   "outputs": [],
   "source": [
    "# q = model.scores_['BRCA'][np.where(cv_mean1==cv_mean1.max())[0][0]]"
   ]
  },
  {
   "cell_type": "code",
   "execution_count": 149,
   "metadata": {},
   "outputs": [
    {
     "data": {
      "text/plain": [
       "array([0.5       , 0.5       , 0.5       , 0.5       , 0.99933177,\n",
       "       0.99933177, 1.        , 1.        , 1.        , 1.        ,\n",
       "       1.        , 1.        , 1.        , 1.        , 1.        ,\n",
       "       1.        , 1.        , 1.        , 1.        , 1.        ,\n",
       "       1.        , 1.        , 1.        , 1.        , 1.        ,\n",
       "       1.        , 1.        , 1.        , 1.        , 1.        ])"
      ]
     },
     "execution_count": 149,
     "metadata": {},
     "output_type": "execute_result"
    }
   ],
   "source": [
    "# q"
   ]
  },
  {
   "cell_type": "code",
   "execution_count": 357,
   "metadata": {},
   "outputs": [],
   "source": [
    "# q[np.where(q == q.max())]"
   ]
  },
  {
   "cell_type": "code",
   "execution_count": 30,
   "metadata": {},
   "outputs": [],
   "source": []
  },
  {
   "cell_type": "code",
   "execution_count": 36,
   "metadata": {},
   "outputs": [],
   "source": []
  },
  {
   "cell_type": "code",
   "execution_count": 356,
   "metadata": {},
   "outputs": [],
   "source": [
    "# model.Cs_[6]"
   ]
  },
  {
   "cell_type": "code",
   "execution_count": 355,
   "metadata": {},
   "outputs": [],
   "source": [
    "# idx_max_mean = np.argmax(q)\n",
    "# print(idx_max_mean)\n",
    "# C_max1 = model.Cs_[idx_max_mean]\n",
    "# print(C_max1)\n",
    "\n",
    "# idx_alpha = np.where(\n",
    "#                 (q >= q[np.argmax(q)] - np.std(q)) &\n",
    "#                 (q <= q[np.argmax(q)]))[0][0]\n",
    "# C_lse1 = model.Cs_[idx_alpha].min()\n",
    "# print(idx_alpha)\n",
    "# print(C_lse1)\n"
   ]
  },
  {
   "cell_type": "code",
   "execution_count": null,
   "metadata": {},
   "outputs": [],
   "source": []
  },
  {
   "cell_type": "code",
   "execution_count": null,
   "metadata": {},
   "outputs": [],
   "source": []
  },
  {
   "cell_type": "code",
   "execution_count": null,
   "metadata": {},
   "outputs": [],
   "source": [
    "\n"
   ]
  },
  {
   "cell_type": "markdown",
   "metadata": {},
   "source": [
    "\n",
    "#### LABEL -BRCA"
   ]
  },
  {
   "cell_type": "code",
   "execution_count": 224,
   "metadata": {},
   "outputs": [
    {
     "name": "stdout",
     "output_type": "stream",
     "text": [
      "1.0608183551394483\n",
      "0.180472176682717\n",
      "\n",
      "\n",
      "0.5878016072274912\n",
      "0.180472176682717\n",
      "\n",
      "\n",
      "0.180472176682717\n",
      "0.180472176682717\n",
      "\n",
      "\n",
      "1.0608183551394483\n",
      "0.180472176682717\n",
      "\n",
      "\n",
      "1.0608183551394483\n",
      "0.180472176682717\n",
      "\n",
      "\n"
     ]
    }
   ],
   "source": [
    "rec_Clse1_test = []\n",
    "rec_Cmax1_test = []\n",
    "rec_Clse1_train = []\n",
    "rec_Cmax1_train = []\n",
    "nz_coefs_indices_Clse1 = []\n",
    "nz_coefs_indices_Cmax1 = []\n",
    "nz_coefs_Clse1 = []\n",
    "nz_coefs_Cmax1 = []\n",
    "\n",
    "\n",
    "for i in range(5):\n",
    "        \n",
    "    \n",
    "        C_values = np.logspace(-3, 7, 40)\n",
    "        model = LogisticRegressionCV(cv = 5,penalty = 'l1', multi_class = 'ovr', solver = 'liblinear', intercept_scaling = 10000,\n",
    "                                     Cs = C_values, scoring = 'f1_micro')\n",
    "        X_train, X_test, y_train, y_test = train_test_split(data_new, labels, test_size = 0.3)\n",
    "        model.fit(X_train, y_train)\n",
    "\n",
    "        cv_mean1 = np.mean(model.scores_['BRCA'], axis=1)\n",
    "        \n",
    "        \n",
    "        \n",
    "        \n",
    "        \n",
    "        #     cv_mean2 = np.mean(model.scores_['LUAD'], axis=1)\n",
    "        #     cv_mean3 = np.mean(model.scores_['PRAD'], axis=1)\n",
    "        #     cv_mean4 = np.mean(model.scores_['KIRC'], axis=1)\n",
    "        #     cv_mean5 = np.mean(model.scores_['COAD'], axis=1)\n",
    "\n",
    "        cv_std1 = np.std(model.scores_['BRCA'], axis=1)\n",
    "        #     cv_std2 = np.std(model.scores_['LUAD'], axis=1)\n",
    "        #     cv_std3 = np.std(model.scores_['PRAD'], axis=1)\n",
    "        #     cv_std4 = np.std(model.scores_['KIRC'], axis=1)\n",
    "        #     cv_std5 = np.std(model.scores_['COAD'], axis=1)\n",
    "        \n",
    "        q = model.scores_['BRCA'][np.where(cv_mean1==cv_mean1.max())[0][0]]\n",
    "\n",
    "\n",
    "        idx_max_mean = np.argmax(q)\n",
    "        C_max1 = (model.Cs_[idx_max_mean])*100\n",
    "        idx_alpha = np.where(\n",
    "                        (q >= q[np.argmax(q)] - np.std(q)) &\n",
    "                        (q <= q[np.argmax(q)]))[0][0]\n",
    "        C_lse1 = (model.Cs_[idx_alpha])*100\n",
    "        \n",
    "        print(C_max1)\n",
    "        print(C_lse1)\n",
    "        print('\\n')\n",
    "        \n",
    "        \n",
    "       \n",
    "\n",
    "\n",
    "        labels_brca = []\n",
    "        for i in np.asarray(labels):\n",
    "            if i == 'BRCA':\n",
    "                labels_brca.append(1)\n",
    "            else:\n",
    "                labels_brca.append(0)\n",
    "\n",
    "        labels_brca = np.asarray(labels_brca)\n",
    "\n",
    "\n",
    "\n",
    "\n",
    "        #Modelling using C_lse for BRCA\n",
    "        logreg1 = LogisticRegression(C = C_lse1, penalty = 'l1', multi_class = 'ovr', solver = 'liblinear', intercept_scaling = 10000)\n",
    "\n",
    "        X_train1, X_test1, y_train1, y_test1 = train_test_split(data_new, labels_brca, test_size = 0.3)\n",
    "        logreg1.fit(X_train1, y_train1)\n",
    "        preds_a = logreg1.predict(X_test1)\n",
    "        rec_a = recall_score(y_test1, preds_a) #testing error\n",
    "        rec_Clse1_test.append(rec_a)\n",
    "        preds_b = logreg1.predict(X_train1)\n",
    "        rec_b = recall_score(y_train1, preds_b) #training error\n",
    "        rec_Clse1_train.append(rec_b)\n",
    "        coefs_brca_Clse = logreg1.coef_[0]\n",
    "        \n",
    "\n",
    "        \n",
    "\n",
    "        for i in range(len(coefs_brca_Clse)):\n",
    "            if (coefs_brca_Clse[i]!=0) and (i not in nz_coefs_indices_Clse1):\n",
    "                    nz_coefs_indices_Clse1.append(i)\n",
    "                    \n",
    "        for i in range(len(coefs_brca_Clse)):\n",
    "            if (coefs_brca_Clse[i]!=0) and (i not in nz_coefs_indices_Clse1):\n",
    "                    nz_coefs_Clse1.append(coefs_brca_Clse[i])\n",
    "            \n",
    "\n",
    "\n",
    "\n",
    "\n",
    "\n",
    "        #Modelling using C_max for BRCA\n",
    "\n",
    "        logreg2 = LogisticRegression(penalty = 'l1', multi_class = 'ovr', solver = 'liblinear', C = C_max1, intercept_scaling = 10000)\n",
    "\n",
    "        X_train2, X_test2, y_train2, y_test2 = train_test_split(data_new, labels_brca, test_size = 0.3)\n",
    "        logreg2.fit(X_train2, y_train2)\n",
    "        preds_c = logreg2.predict(X_test2)\n",
    "        rec_c = recall_score(y_test2, preds_c) #testing error\n",
    "        rec_Cmax1_test.append(rec_c)\n",
    "        preds_d = logreg2.predict(X_train2)\n",
    "        rec_d = recall_score(y_train2, preds_d) #training error\n",
    "        rec_Cmax1_train.append(rec_d)\n",
    "        coefs_brca_Cmax = logreg2.coef_[0]\n",
    "        \n",
    "        for i in range(len(coefs_brca_Cmax)):\n",
    "            if (coefs_brca_Cmax[i]!=0) and (i not in nz_coefs_indices_Cmax1):\n",
    "                    nz_coefs_indices_Cmax1.append(i)\n",
    "                    \n",
    "        for i in range(len(coefs_brca_Cmax)):\n",
    "            if (coefs_brca_Cmax[i]!=0) and (i not in nz_coefs_indices_Cmax1):\n",
    "                    nz_coefs_Cmax1.append(coefs_brca_Cmax[i])\n",
    "\n",
    "\n",
    "\n"
   ]
  },
  {
   "cell_type": "code",
   "execution_count": null,
   "metadata": {},
   "outputs": [],
   "source": []
  },
  {
   "cell_type": "code",
   "execution_count": 226,
   "metadata": {},
   "outputs": [
    {
     "data": {
      "text/plain": [
       "[1.0, 1.0, 1.0, 1.0, 1.0]"
      ]
     },
     "execution_count": 226,
     "metadata": {},
     "output_type": "execute_result"
    }
   ],
   "source": [
    "rec_Cmax1_test"
   ]
  },
  {
   "cell_type": "code",
   "execution_count": 222,
   "metadata": {},
   "outputs": [
    {
     "data": {
      "text/plain": [
       "30"
      ]
     },
     "execution_count": 222,
     "metadata": {},
     "output_type": "execute_result"
    }
   ],
   "source": [
    "len(nz_coefs_indices_Cmax1)"
   ]
  },
  {
   "cell_type": "code",
   "execution_count": null,
   "metadata": {},
   "outputs": [],
   "source": []
  },
  {
   "cell_type": "code",
   "execution_count": 223,
   "metadata": {},
   "outputs": [
    {
     "data": {
      "text/plain": [
       "19"
      ]
     },
     "execution_count": 223,
     "metadata": {},
     "output_type": "execute_result"
    }
   ],
   "source": [
    "len(nz_coefs_indices_Clse1)"
   ]
  },
  {
   "cell_type": "markdown",
   "metadata": {},
   "source": [
    "#### LABEL - LUAD"
   ]
  },
  {
   "cell_type": "code",
   "execution_count": 230,
   "metadata": {},
   "outputs": [
    {
     "name": "stdout",
     "output_type": "stream",
     "text": [
      "3.455107294592218\n",
      "0.32570206556597825\n",
      "\n",
      "\n",
      "0.32570206556597825\n",
      "0.32570206556597825\n",
      "\n",
      "\n",
      "1.9144819761699576\n",
      "0.32570206556597825\n",
      "\n",
      "\n",
      "3.455107294592218\n",
      "0.32570206556597825\n",
      "\n",
      "\n",
      "1.0608183551394483\n",
      "0.32570206556597825\n",
      "\n",
      "\n"
     ]
    }
   ],
   "source": [
    "mse_Clse2_test = []\n",
    "mse_Cmax2_test = []\n",
    "mse_Clse2_train = []\n",
    "mse_Cmax2_train = []\n",
    "nz_coefs_indices_Clse2 = []\n",
    "nz_coefs_indices_Cmax2 = []\n",
    "nz_coefs_Clse2 = []\n",
    "nz_coefs_Cmax2 = []\n",
    "\n",
    "\n",
    "\n",
    "for i in range(5):\n",
    "    \n",
    "    C_values = np.logspace(-3, 7, 40)\n",
    "    model = LogisticRegressionCV(cv = 5,penalty = 'l1', multi_class = 'ovr', solver = 'liblinear', intercept_scaling = 10000,\n",
    "                                     Cs = C_values, scoring = 'f1_micro')\n",
    "    X_train, X_test, y_train, y_test = train_test_split(data_new, labels, test_size = 0.3)\n",
    "    model.fit(X_train, y_train)\n",
    "\n",
    "    #cv_mean1 = np.mean(model.scores_['BRCA'], axis=1)\n",
    "    cv_mean2 = np.mean(model.scores_['LUAD'], axis=1)\n",
    "#     cv_mean3 = np.mean(model.scores_['PRAD'], axis=1)\n",
    "#     cv_mean4 = np.mean(model.scores_['KIRC'], axis=1)\n",
    "#     cv_mean5 = np.mean(model.scores_['COAD'], axis=1)\n",
    "\n",
    "    #cv_std1 = np.std(model.scores_['BRCA'], axis=1)\n",
    "    cv_std2 = np.std(model.scores_['LUAD'], axis=1)\n",
    "#     cv_std3 = np.std(model.scores_['PRAD'], axis=1)\n",
    "#     cv_std4 = np.std(model.scores_['KIRC'], axis=1)\n",
    "#     cv_std5 = np.std(model.scores_['COAD'], axis=1)\n",
    "\n",
    "    q = model.scores_['LUAD'][np.where(cv_mean2==cv_mean2.max())[0][0]]\n",
    "\n",
    "\n",
    "    idx_max_mean = np.argmax(q)\n",
    "    C_max2 = (model.Cs_[idx_max_mean])*100\n",
    "    idx_alpha = np.where(\n",
    "                    (q >= q[np.argmax(q)] - np.std(q)) &\n",
    "                    (q <= q[np.argmax(q)]))[0][0]\n",
    "    C_lse2 = (model.Cs_[idx_alpha].min())*100\n",
    "    \n",
    "    print(C_max2)\n",
    "    print(C_lse2)\n",
    "    print('\\n')\n",
    "\n",
    "    \n",
    "\n",
    "\n",
    "    labels_luad = []\n",
    "    for i in np.asarray(labels):\n",
    "        if i == 'LUAD':\n",
    "            labels_luad.append(1)\n",
    "        else:\n",
    "            labels_luad.append(0)\n",
    "\n",
    "    labels_luad = np.asarray(labels_luad)\n",
    "\n",
    "\n",
    "\n",
    "\n",
    "\n",
    "    #Modelling using C_lse for LUAD\n",
    "    logreg1 = LogisticRegression(penalty = 'l1', multi_class = 'ovr', solver = 'liblinear', \n",
    "                                 C = C_lse2, intercept_scaling = 10000)\n",
    "\n",
    "    X_train1, X_test1, y_train1, y_test1 = train_test_split(data_new, labels_luad, test_size = 0.3)\n",
    "    logreg1.fit(X_train1, y_train1)\n",
    "    preds_a = logreg1.predict(X_test1)\n",
    "    mse_a = mean_squared_error(y_test1, preds_a) #testing error\n",
    "    mse_Clse2_test.append(mse_a)\n",
    "    preds_b = logreg1.predict(X_train1)\n",
    "    mse_b = mean_squared_error(y_train1, preds_b) #training error\n",
    "    mse_Clse2_train.append(mse_b)\n",
    "    coefs_luad_Clse = logreg1.coef_[0]\n",
    "    for i in range(len(coefs_brca_Clse)):\n",
    "            if (coefs_luad_Clse[i]!=0) and (i not in nz_coefs_indices_Clse2):\n",
    "                    nz_coefs_indices_Clse2.append(i)\n",
    "                    \n",
    "    for i in range(len(coefs_brca_Clse)):\n",
    "            if (coefs_luad_Clse[i]!=0) and (i not in nz_coefs_indices_Clse2):\n",
    "                    nz_coefs_Clse2.append(coefs_luad_Clse[i])\n",
    "            \n",
    "\n",
    "\n",
    "    #Modelling using C_max for LUAD\n",
    "\n",
    "    logreg2 = LogisticRegression(penalty = 'l1', multi_class = 'ovr', solver = 'liblinear', C = C_max2, \n",
    "                                 intercept_scaling = 10000)\n",
    "\n",
    "    X_train2, X_test2, y_train2, y_test2 = train_test_split(data_new, labels_luad, test_size = 0.3)\n",
    "    logreg2.fit(X_train2, y_train2)\n",
    "    preds_c = logreg2.predict(X_test2)\n",
    "    mse_c = mean_squared_error(y_test2, preds_c) #testing error\n",
    "    mse_Cmax2_test.append(mse_c)\n",
    "    preds_d = logreg2.predict(X_train2)\n",
    "    mse_d = mean_squared_error(y_train2, preds_d) #training error\n",
    "    mse_Cmax2_train.append(mse_d)\n",
    "    coefs_luad_Cmax = logreg2.coef_[0]\n",
    "    for i in range(len(coefs_luad_Cmax)):\n",
    "            if (coefs_luad_Cmax[i]!=0) and (i not in nz_coefs_indices_Cmax2):\n",
    "                    nz_coefs_indices_Cmax2.append(i)\n",
    "                    \n",
    "    for i in range(len(coefs_luad_Cmax)):\n",
    "            if (coefs_luad_Cmax[i]!=0) and (i not in nz_coefs_indices_Cmax2):\n",
    "                    nz_coefs_Cmax2.append(coefs_luad_Cmax[i])\n"
   ]
  },
  {
   "cell_type": "code",
   "execution_count": 231,
   "metadata": {},
   "outputs": [
    {
     "data": {
      "text/plain": [
       "30"
      ]
     },
     "execution_count": 231,
     "metadata": {},
     "output_type": "execute_result"
    }
   ],
   "source": [
    "len(nz_coefs_indices_Cmax2)"
   ]
  },
  {
   "cell_type": "code",
   "execution_count": 232,
   "metadata": {},
   "outputs": [
    {
     "data": {
      "text/plain": [
       "23"
      ]
     },
     "execution_count": 232,
     "metadata": {},
     "output_type": "execute_result"
    }
   ],
   "source": [
    "len(nz_coefs_indices_Clse2)"
   ]
  },
  {
   "cell_type": "markdown",
   "metadata": {},
   "source": [
    "#### LABEL - PRAD"
   ]
  },
  {
   "cell_type": "code",
   "execution_count": 235,
   "metadata": {},
   "outputs": [
    {
     "name": "stdout",
     "output_type": "stream",
     "text": [
      "0.180472176682717\n",
      "0.180472176682717\n",
      "0.180472176682717\n",
      "0.180472176682717\n",
      "0.32570206556597825\n",
      "0.180472176682717\n",
      "0.180472176682717\n",
      "0.180472176682717\n",
      "0.32570206556597825\n",
      "0.180472176682717\n"
     ]
    }
   ],
   "source": [
    "mse_Clse3_test = []\n",
    "mse_Cmax3_test = []\n",
    "mse_Clse3_train = []\n",
    "mse_Cmax3_train = []\n",
    "nz_coefs_indices_Clse3= []\n",
    "nz_coefs_indices_Cmax3 = []\n",
    "nz_coefs_Clse3= []\n",
    "nz_coefs_Cmax3 = []\n",
    "\n",
    "\n",
    "for i in range(5):\n",
    "    \n",
    "    \n",
    "    C_values = np.logspace(-3, 7, 40)\n",
    "    model = LogisticRegressionCV(cv = 5,penalty = 'l1', multi_class = 'ovr', solver = 'liblinear', intercept_scaling = 10000,\n",
    "                                     Cs = C_values.tolist(), scoring = 'f1_micro')\n",
    "    X_train, X_test, y_train, y_test = train_test_split(data_new, labels, test_size = 0.3)\n",
    "    model.fit(X_train, y_train)\n",
    "\n",
    "    #cv_mean1 = np.mean(model.scores_['BRCA'], axis=1)\n",
    "    #cv_mean2 = np.mean(model.scores_['LUAD'], axis=1)\n",
    "    cv_mean3 = np.mean(model.scores_['PRAD'], axis=1)\n",
    "#     cv_mean4 = np.mean(model.scores_['KIRC'], axis=1)\n",
    "#     cv_mean5 = np.mean(model.scores_['COAD'], axis=1)\n",
    "\n",
    "    #cv_std1 = np.std(model.scores_['BRCA'], axis=1)\n",
    "     #cv_std2 = np.std(model.scores_['LUAD'], axis=1)\n",
    "    cv_std3 = np.std(model.scores_['PRAD'], axis=1)\n",
    "#     cv_std4 = np.std(model.scores_['KIRC'], axis=1)\n",
    "#     cv_std5 = np.std(model.scores_['COAD'], axis=1)\n",
    "\n",
    "\n",
    "    q = model.scores_['PRAD'][np.where(cv_mean3==cv_mean3.max())[0][0]]\n",
    "\n",
    "\n",
    "    idx_max_mean = np.argmax(q)\n",
    "    C_max3 = (model.Cs_[idx_max_mean])*100\n",
    "    idx_alpha = np.where(\n",
    "                    (q >= q[np.argmax(q)] - np.std(q)) &\n",
    "                    (q <= q[np.argmax(q)]))[0][0]\n",
    "    C_lse3 = (model.Cs_[idx_alpha].min())*100\n",
    "\n",
    "    print(C_max3)\n",
    "    print(C_lse3)\n",
    "\n",
    "\n",
    "\n",
    "    labels_prad = []\n",
    "    for i in np.asarray(labels):\n",
    "        if i == 'PRAD':\n",
    "            labels_prad.append(1)\n",
    "        else:\n",
    "            labels_prad.append(0)\n",
    "\n",
    "    labels_prad = np.asarray(labels_prad)\n",
    "\n",
    "\n",
    "\n",
    "\n",
    "\n",
    "    #Modelling using C_lse for PRAD\n",
    "    logreg1 = LogisticRegression(penalty = 'l1', multi_class = 'ovr', solver = 'liblinear', C = C_lse3, \n",
    "                                 intercept_scaling = 10000)\n",
    "\n",
    "    X_train1, X_test1, y_train1, y_test1 = train_test_split(data_new, labels_prad, test_size = 0.3)\n",
    "    logreg1.fit(X_train1, y_train1)\n",
    "    preds_a = logreg1.predict(X_test1)\n",
    "    mse_a = mean_squared_error(y_test1, preds_a) #testing error\n",
    "    mse_Clse3_test.append(mse_a)\n",
    "    preds_b = logreg1.predict(X_train1)\n",
    "    mse_b = mean_squared_error(y_train1, preds_b) #training error\n",
    "    mse_Clse3_train.append(mse_b)\n",
    "    coefs_prad_Clse = logreg1.coef_[0]\n",
    "    for i in range(len(coefs_prad_Clse)):\n",
    "            if (coefs_prad_Clse[i] != 0) and (i not in nz_coefs_indices_Clse3):\n",
    "                    nz_coefs_indices_Clse3.append(i)\n",
    "            \n",
    "    for i in range(len(coefs_prad_Clse)):\n",
    "            if (coefs_prad_Clse[i] != 0) and (i not in nz_coefs_indices_Clse3):\n",
    "                    nz_coefs_Clse3.append(coefs_prad_Clse[i])\n",
    "    \n",
    "\n",
    "\n",
    "\n",
    "\n",
    "    #Modelling using C_max for PRAD\n",
    "\n",
    "    logreg2 = LogisticRegression(penalty = 'l1', multi_class = 'ovr', solver = 'liblinear', C = C_max3,\n",
    "                                 intercept_scaling = 10000)\n",
    "\n",
    "    X_train2, X_test2, y_train2, y_test2 = train_test_split(data_new, labels_prad, test_size = 0.3)\n",
    "    logreg2.fit(X_train2, y_train2)\n",
    "    preds_c = logreg2.predict(X_test2)\n",
    "    mse_c = mean_squared_error(y_test2, preds_c) #testing error\n",
    "    mse_Cmax3_test.append(mse_c)\n",
    "    preds_d = logreg2.predict(X_train2)\n",
    "    mse_d = mean_squared_error(y_train2, preds_d) #training error\n",
    "    mse_Cmax3_train.append(mse_d)\n",
    "    coefs_prad_Cmax = logreg2.coef_[0]\n",
    "    for i in range(len(coefs_prad_Cmax)):\n",
    "            if coefs_prad_Cmax[i] != 0 and (i not in nz_coefs_indices_Cmax3):\n",
    "                    nz_coefs_indices_Cmax3.append(i)\n",
    "                    \n",
    "    for i in range(len(coefs_prad_Cmax)):\n",
    "            if coefs_prad_Cmax[i] != 0 and (i not in nz_coefs_indices_Cmax3):\n",
    "                    nz_coefs_Cmax3.append(coefs_prad_Cmax[i])"
   ]
  },
  {
   "cell_type": "code",
   "execution_count": 238,
   "metadata": {},
   "outputs": [
    {
     "data": {
      "text/plain": [
       "[5, 97, 98, 137, 186, 194, 130, 41, 74, 122]"
      ]
     },
     "execution_count": 238,
     "metadata": {},
     "output_type": "execute_result"
    }
   ],
   "source": [
    "nz_coefs_indices_Cmax3"
   ]
  },
  {
   "cell_type": "markdown",
   "metadata": {},
   "source": [
    "#### LABEL - KIRC"
   ]
  },
  {
   "cell_type": "code",
   "execution_count": 239,
   "metadata": {},
   "outputs": [
    {
     "name": "stdout",
     "output_type": "stream",
     "text": [
      "0.4520353656360241\n",
      "0.2395026619987486\n",
      "\n",
      "\n",
      "0.4520353656360241\n",
      "0.2395026619987486\n",
      "\n",
      "\n",
      "0.4520353656360241\n",
      "0.2395026619987486\n",
      "\n",
      "\n",
      "3.039195382313198\n",
      "0.2395026619987486\n",
      "\n",
      "\n",
      "0.8531678524172805\n",
      "0.4520353656360241\n",
      "\n",
      "\n"
     ]
    }
   ],
   "source": [
    "mse_Clse4_test = []\n",
    "mse_Cmax4_test = []\n",
    "mse_Clse4_train = []\n",
    "mse_Cmax4_train = []\n",
    "nz_coefs_indices_Clse4 = []\n",
    "nz_coefs_indices_Cmax4 = []\n",
    "nz_coefs_Clse4 = []\n",
    "nz_coefs_Cmax4 = []\n",
    "\n",
    "\n",
    "for i in range(5):\n",
    "    \n",
    "    \n",
    "    C_values = np.logspace(-4, 4, 30)\n",
    "    model = LogisticRegressionCV(cv = 5,penalty = 'l1', multi_class = 'ovr', solver = 'liblinear', intercept_scaling = 10000,\n",
    "                                     Cs = C_values, scoring = 'f1_micro')\n",
    "    X_train, X_test, y_train, y_test = train_test_split(data_new, labels, test_size = 0.3)\n",
    "    model.fit(X_train, y_train)\n",
    "\n",
    "    #cv_mean1 = np.mean(model.scores_['BRCA'], axis=1)\n",
    "    #cv_mean2 = np.mean(model.scores_['LUAD'], axis=1)\n",
    "    #cv_mean3 = np.mean(model.scores_['PRAD'], axis=1)\n",
    "    cv_mean4 = np.mean(model.scores_['KIRC'], axis=1)\n",
    "#     cv_mean5 = np.mean(model.scores_['COAD'], axis=1)\n",
    "\n",
    "    #cv_std1 = np.std(model.scores_['BRCA'], axis=1)\n",
    "     #cv_std2 = np.std(model.scores_['LUAD'], axis=1)\n",
    "    #cv_std3 = np.std(model.scores_['PRAD'], axis=1)\n",
    "    cv_std4 = np.std(model.scores_['KIRC'], axis=1)\n",
    "#     cv_std5 = np.std(model.scores_['COAD'], axis=1)\n",
    "\n",
    "\n",
    "    q = model.scores_['KIRC'][np.where(cv_mean4==cv_mean4.max())[0][0]]\n",
    "\n",
    "\n",
    "    idx_max_mean = np.argmax(q)\n",
    "    C_max4 = (model.Cs_[idx_max_mean])*100\n",
    "    idx_alpha = np.where(\n",
    "                    (q >= q[np.argmax(q)] - np.std(q)) &\n",
    "                    (q <= q[np.argmax(q)]))[0][0]\n",
    "    C_lse4 = (model.Cs_[idx_alpha].min())*100\n",
    "\n",
    "    print(C_max4)\n",
    "    print(C_lse4)\n",
    "    print('\\n')\n",
    "\n",
    "\n",
    "    labels_kirc = []\n",
    "    for i in np.asarray(labels):\n",
    "        if i == 'KIRC':\n",
    "            labels_kirc.append(1)\n",
    "        else:\n",
    "            labels_kirc.append(0)\n",
    "\n",
    "    labels_kirc = np.asarray(labels_kirc)\n",
    "\n",
    "\n",
    "\n",
    "\n",
    "\n",
    "    #Modelling using C_lse for KIRC\n",
    "    logreg1 = LogisticRegression(penalty = 'l1', multi_class = 'ovr', solver = 'liblinear', C = C_lse4, \n",
    "                                 intercept_scaling = 10000)\n",
    "\n",
    "    X_train1, X_test1, y_train1, y_test1 = train_test_split(data_new, labels_kirc, test_size = 0.3)\n",
    "    logreg1.fit(X_train1, y_train1)\n",
    "    preds_a = logreg1.predict(X_test1)\n",
    "    mse_a = mean_squared_error(y_test1, preds_a) #testing error\n",
    "    mse_Clse4_test.append(mse_a)\n",
    "    preds_b = logreg1.predict(X_train1)\n",
    "    mse_b = mean_squared_error(y_train1, preds_b) #training error\n",
    "    mse_Clse4_train.append(mse_b)\n",
    "    coefs_kirc_Clse = logreg1.coef_[0]\n",
    "    for i in range(len(coefs_kirc_Clse)):\n",
    "            if (coefs_kirc_Clse[i] != 0) and (i not in nz_coefs_indices_Clse4):\n",
    "                nz_coefs_indices_Clse4.append(i)\n",
    "                \n",
    "    for i in range(len(coefs_kirc_Clse)):\n",
    "            if (coefs_kirc_Clse[i] != 0) and (i not in nz_coefs_indices_Clse4):\n",
    "                nz_coefs_Clse4.append(coefs_kirc_Clse[i])\n",
    "\n",
    "\n",
    "    #Modelling using C_max for KIRC\n",
    "\n",
    "    logreg2 = LogisticRegression(penalty = 'l1', multi_class = 'ovr', solver = 'liblinear', C = C_max4, intercept_scaling = 10000)\n",
    "\n",
    "    X_train2, X_test2, y_train2, y_test2 = train_test_split(data_new, labels_kirc, test_size = 0.3)\n",
    "    logreg2.fit(X_train2, y_train2)\n",
    "    preds_c = logreg2.predict(X_test2)\n",
    "    mse_c = mean_squared_error(y_test2, preds_c) #testing error\n",
    "    mse_Cmax4_test.append(mse_c)\n",
    "    preds_d = logreg2.predict(X_train2)\n",
    "    mse_d = mean_squared_error(y_train2, preds_d) #training error\n",
    "    mse_Cmax4_train.append(mse_d)\n",
    "    coefs_kirc_Cmax = logreg2.coef_[0]\n",
    "    for i in range(len(coefs_kirc_Cmax)):\n",
    "            if (coefs_kirc_Cmax[i] != 0) and (i not in nz_coefs_indices_Cmax4):\n",
    "                    nz_coefs_indices_Cmax4.append(i)\n",
    "                    \n",
    "    for i in range(len(coefs_kirc_Cmax)):\n",
    "            if (coefs_kirc_Cmax[i] != 0) and (i not in nz_coefs_indices_Cmax4):\n",
    "                    nz_coefs_Cmax4.append(coefs_kirc_Cmax[i])"
   ]
  },
  {
   "cell_type": "code",
   "execution_count": 241,
   "metadata": {},
   "outputs": [
    {
     "data": {
      "text/plain": [
       "20"
      ]
     },
     "execution_count": 241,
     "metadata": {},
     "output_type": "execute_result"
    }
   ],
   "source": [
    "len(nz_coefs_indices_Cmax4)"
   ]
  },
  {
   "cell_type": "markdown",
   "metadata": {},
   "source": [
    "#### LABEL - COAD"
   ]
  },
  {
   "cell_type": "code",
   "execution_count": 243,
   "metadata": {},
   "outputs": [
    {
     "name": "stdout",
     "output_type": "stream",
     "text": [
      "1.0826367338740546\n",
      "1.0826367338740546\n",
      "/n\n",
      "1.0826367338740546\n",
      "0.4893900918477494\n",
      "/n\n",
      "1.0826367338740546\n",
      "1.0826367338740546\n",
      "/n\n",
      "0.4893900918477494\n",
      "0.4893900918477494\n",
      "/n\n",
      "1.0826367338740546\n",
      "0.4893900918477494\n",
      "/n\n"
     ]
    }
   ],
   "source": [
    "mse_Clse5_test = []\n",
    "mse_Cmax5_test = []\n",
    "mse_Clse5_train = []\n",
    "mse_Cmax5_train = []\n",
    "nz_coefs_indices_Clse5 = []\n",
    "nz_coefs_indices_Cmax5 = []\n",
    "nz_coefs_Clse5 = []\n",
    "nz_coefs_Cmax5 = []\n",
    "\n",
    "\n",
    "\n",
    "for i in range(5):\n",
    "    \n",
    "    C_values = np.logspace(-3, 7, 30)\n",
    "    model = LogisticRegressionCV(cv = 5,penalty = 'l1', multi_class = 'ovr', solver = 'liblinear', intercept_scaling = 10000,\n",
    "                                Cs = C_values, scoring = 'f1_micro')\n",
    "    X_train, X_test, y_train, y_test = train_test_split(data_new, labels, test_size = 0.3)\n",
    "    model.fit(X_train, y_train)\n",
    "\n",
    "    #cv_mean1 = np.mean(model.scores_['BRCA'], axis=1)\n",
    "    #cv_mean2 = np.mean(model.scores_['LUAD'], axis=1)\n",
    "    #cv_mean3 = np.mean(model.scores_['PRAD'], axis=1)\n",
    "    #cv_mean4 = np.mean(model.scores_['KIRC'], axis=1)\n",
    "    cv_mean5 = np.mean(model.scores_['COAD'], axis=1)\n",
    "\n",
    "    #cv_std1 = np.std(model.scores_['BRCA'], axis=1)\n",
    "     #cv_std2 = np.std(model.scores_['LUAD'], axis=1)\n",
    "    #cv_std3 = np.std(model.scores_['PRAD'], axis=1)\n",
    "     #cv_std4 = np.std(model.scores_['KIRC'], axis=1)\n",
    "    cv_std5 = np.std(model.scores_['COAD'], axis=1)\n",
    "\n",
    "\n",
    "    q = model.scores_['COAD'][np.where(cv_mean5==cv_mean5.max())[0][0]]\n",
    "\n",
    "\n",
    "    idx_max_mean = np.argmax(q)\n",
    "    C_max5 = (model.Cs_[idx_max_mean])*100\n",
    "    idx_alpha = np.where(\n",
    "                    (q >= q[np.argmax(q)] - np.std(q)) &\n",
    "                    (q <= q[np.argmax(q)]))[0][0]\n",
    "    C_lse5 = (model.Cs_[idx_alpha].min())*100\n",
    "\n",
    "    print(C_max5)\n",
    "    print(C_lse5)\n",
    "    print('/n')\n",
    "\n",
    "\n",
    "    labels_coad = []\n",
    "    for i in np.asarray(labels):\n",
    "        if i == 'COAD':\n",
    "            labels_coad.append(1)\n",
    "        else:\n",
    "            labels_coad.append(0)\n",
    "\n",
    "    labels_coad = np.asarray(labels_coad)\n",
    "\n",
    "\n",
    "\n",
    "\n",
    "\n",
    "    #Modelling using C_lse for COAD\n",
    "    logreg1 = LogisticRegression(penalty = 'l1', multi_class = 'ovr', solver = 'liblinear', C = C_lse5, \n",
    "                                 intercept_scaling = 10000)\n",
    "\n",
    "    X_train1, X_test1, y_train1, y_test1 = train_test_split(data_new, labels_coad, test_size = 0.3)\n",
    "    logreg1.fit(X_train1, y_train1)\n",
    "    preds_a = logreg1.predict(X_test1)\n",
    "    mse_a = mean_squared_error(y_test1, preds_a) #testing error\n",
    "    mse_Clse5_test.append(mse_a)\n",
    "    preds_b = logreg1.predict(X_train1)\n",
    "    mse_b = mean_squared_error(y_train1, preds_b) #training error\n",
    "    mse_Clse5_train.append(mse_b)\n",
    "    coefs_coad_Clse = logreg1.coef_[0]\n",
    "    for i in range(len(coefs_coad_Clse)):\n",
    "            if (coefs_coad_Clse[i] != 0) and (i not in nz_coefs_indices_Clse5):\n",
    "                nz_coefs_indices_Clse5.append(i)\n",
    "    \n",
    "    for i in range(len(coefs_coad_Clse)):\n",
    "            if (coefs_coad_Clse[i] != 0) and (i not in nz_coefs_indices_Clse5):\n",
    "                nz_coefs_Clse5.append(coefs_coad_Clse[i])\n",
    "\n",
    "\n",
    "\n",
    "    #Modelling using C_max for COAD\n",
    "\n",
    "    logreg2 = LogisticRegression(penalty = 'l1', multi_class = 'ovr', solver = 'liblinear', C = C_max5, intercept_scaling = 10000)\n",
    "\n",
    "    X_train2, X_test2, y_train2, y_test2 = train_test_split(data_new, labels_coad, test_size = 0.3)\n",
    "    logreg2.fit(X_train2, y_train2)\n",
    "    preds_c = logreg2.predict(X_test2)\n",
    "    mse_c = mean_squared_error(y_test2, preds_c) #testing error\n",
    "    mse_Cmax5_test.append(mse_c)\n",
    "    preds_d = logreg2.predict(X_train2)\n",
    "    mse_d = mean_squared_error(y_train2, preds_d) #training error\n",
    "    mse_Cmax5_train.append(mse_d)\n",
    "    coefs_coad_Cmax = logreg2.coef_[0]\n",
    "    for i in range(len(coefs_coad_Cmax)):\n",
    "            if (coefs_coad_Cmax[i] != 0) and (i not in nz_coefs_indices_Cmax5):\n",
    "                nz_coefs_indices_Cmax5.append(i)\n",
    "                \n",
    "    for i in range(len(coefs_coad_Cmax)):\n",
    "            if (coefs_coad_Cmax[i] != 0) and (i not in nz_coefs_indices_Cmax5):\n",
    "                nz_coefs_Cmax5.append(coefs_coad_Cmax[i])\n",
    "\n"
   ]
  },
  {
   "cell_type": "code",
   "execution_count": 248,
   "metadata": {},
   "outputs": [
    {
     "data": {
      "text/plain": [
       "[15, 34, 38, 65, 79, 87, 117, 121, 199, 151, 39, 81]"
      ]
     },
     "execution_count": 248,
     "metadata": {},
     "output_type": "execute_result"
    }
   ],
   "source": [
    "nz_coefs_indices_Clse5"
   ]
  },
  {
   "cell_type": "code",
   "execution_count": 249,
   "metadata": {},
   "outputs": [
    {
     "data": {
      "text/plain": [
       "[15, 34, 38, 79, 87, 117, 121, 151, 199, 37, 65]"
      ]
     },
     "execution_count": 249,
     "metadata": {},
     "output_type": "execute_result"
    }
   ],
   "source": [
    "nz_coefs_indices_Cmax5"
   ]
  },
  {
   "cell_type": "markdown",
   "metadata": {},
   "source": [
    "### We now do the bootstrapping to gain confidence in feature selection."
   ]
  },
  {
   "cell_type": "code",
   "execution_count": 270,
   "metadata": {},
   "outputs": [
    {
     "data": {
      "text/plain": [
       "(5, 200)"
      ]
     },
     "execution_count": 270,
     "metadata": {},
     "output_type": "execute_result"
    }
   ],
   "source": [
    "#Single selection of features from one run of sparse multi-class logistic regression.\n",
    "X_train, X_test, y_train, y_test = train_test_split(data_new, labels, test_size = 0.3)\n",
    "C_values = np.logspace(-4, 4, 30)\n",
    "model = LogisticRegressionCV(cv = 5,penalty = 'l1', multi_class = 'ovr', solver = 'liblinear', intercept_scaling = 10000, \n",
    "                             Cs = C_values, scoring = 'f1_micro')\n",
    "model.fit(X_train, y_train)\n",
    "model.coef_"
   ]
  },
  {
   "cell_type": "code",
   "execution_count": 272,
   "metadata": {},
   "outputs": [
    {
     "data": {
      "text/plain": [
       "(5, 200)"
      ]
     },
     "execution_count": 272,
     "metadata": {},
     "output_type": "execute_result"
    }
   ],
   "source": [
    "model.coef_.shape"
   ]
  },
  {
   "cell_type": "markdown",
   "metadata": {},
   "source": [
    "#### Coefficients of class 0"
   ]
  },
  {
   "cell_type": "code",
   "execution_count": 253,
   "metadata": {},
   "outputs": [
    {
     "data": {
      "text/plain": [
       "array([ 0.        ,  0.        ,  0.        ,  0.        ,  0.        ,\n",
       "       -0.09515751,  0.        ,  0.        ,  0.        ,  0.        ,\n",
       "        0.        ,  0.        ,  0.        ,  0.        ,  0.        ,\n",
       "        0.        ,  0.        ,  0.        ,  0.        ,  0.        ,\n",
       "        0.        ,  0.        ,  0.        ,  0.        ,  0.        ,\n",
       "       -0.01993546,  0.        ,  0.        ,  0.        ,  0.        ,\n",
       "        0.        ,  0.        ,  0.        ,  0.        ,  0.        ,\n",
       "        0.        ,  0.        ,  0.        ,  0.        ,  0.        ,\n",
       "        0.        ,  0.        ,  0.        ,  0.        ,  0.        ,\n",
       "        0.        ,  0.        ,  0.        ,  0.        , -0.07051532,\n",
       "        0.        ,  0.        ,  0.        ,  0.        ,  0.        ,\n",
       "        0.        ,  0.        ,  0.        ,  0.07747051,  0.        ,\n",
       "        0.        ,  0.        ,  0.        ,  0.        ,  0.        ,\n",
       "        0.        ,  0.        ,  0.        ,  0.        ,  0.        ,\n",
       "       -0.07833279,  0.        ,  0.        ,  0.        ,  0.03435121,\n",
       "        0.16419867,  0.        ,  0.        ,  0.        ,  0.        ,\n",
       "        0.03831702,  0.        ,  0.        ,  0.        , -0.09865492,\n",
       "        0.        , -0.51830888, -0.18650792,  0.        ,  0.        ,\n",
       "        0.        ,  0.06906382, -0.00528073,  0.        ,  0.        ,\n",
       "        0.        ,  0.        , -0.01330603, -0.11935992,  0.        ,\n",
       "        0.        ,  0.        ,  0.30704696,  0.        ,  0.        ,\n",
       "        0.        ,  0.        ,  0.        ,  0.        ,  0.        ,\n",
       "        0.        ,  0.        ,  0.        ,  0.        ,  0.11568634,\n",
       "        0.        ,  0.        ,  0.        ,  0.        , -0.00768292,\n",
       "        0.        ,  0.        ,  0.        ,  0.        ,  0.        ,\n",
       "        0.        ,  0.        ,  0.        ,  0.        ,  0.        ,\n",
       "        0.        ,  0.        ,  0.        ,  0.        ,  0.        ,\n",
       "        0.        ,  0.        , -0.0399727 ,  0.        ,  0.        ,\n",
       "        0.        ,  0.        ,  0.        ,  0.        ,  0.        ,\n",
       "        0.        ,  0.        ,  0.        ,  0.        ,  0.        ,\n",
       "        0.        , -0.0687391 , -0.11407809, -0.12802159,  0.        ,\n",
       "        0.        ,  0.        ,  0.        ,  0.        ,  0.        ,\n",
       "        0.        ,  0.        ,  0.        ,  0.        ,  0.        ,\n",
       "        0.        ,  0.        ,  0.        ,  0.        , -0.133518  ,\n",
       "        0.        ,  0.        ,  0.        ,  0.        ,  0.        ,\n",
       "        0.        , -0.02895367,  0.        ,  0.        ,  0.        ,\n",
       "       -0.31439329,  0.01110069,  0.00793272,  0.        ,  0.        ,\n",
       "        0.        ,  0.        ,  0.        ,  0.        ,  0.        ,\n",
       "        0.        ,  0.        ,  0.        ,  0.        , -0.0063506 ,\n",
       "        0.1166325 ,  0.        ,  0.        ,  0.        ,  0.        ])"
      ]
     },
     "execution_count": 253,
     "metadata": {},
     "output_type": "execute_result"
    }
   ],
   "source": [
    "model.coef_[0]"
   ]
  },
  {
   "cell_type": "markdown",
   "metadata": {},
   "source": [
    "#### Coefficients of class 1"
   ]
  },
  {
   "cell_type": "code",
   "execution_count": 254,
   "metadata": {},
   "outputs": [
    {
     "data": {
      "text/plain": [
       "array([-3.49250907e-03,  0.00000000e+00, -8.26720368e-03, -1.65758074e-01,\n",
       "       -8.63648625e-02,  0.00000000e+00,  0.00000000e+00, -3.99622414e-02,\n",
       "       -1.41881929e-02, -2.57459764e-02,  1.62936825e-02,  2.35661410e-02,\n",
       "        0.00000000e+00, -1.11574632e-02,  0.00000000e+00,  1.38820173e-01,\n",
       "        0.00000000e+00, -3.08070182e-02,  0.00000000e+00,  0.00000000e+00,\n",
       "       -8.59498410e-03,  9.47354760e-02,  0.00000000e+00,  0.00000000e+00,\n",
       "        0.00000000e+00,  0.00000000e+00,  1.59949882e-01,  0.00000000e+00,\n",
       "        3.99249271e-04,  0.00000000e+00,  0.00000000e+00,  0.00000000e+00,\n",
       "        0.00000000e+00,  0.00000000e+00,  3.92565283e-02,  0.00000000e+00,\n",
       "        0.00000000e+00,  0.00000000e+00,  2.36049193e-01,  1.55152743e-01,\n",
       "        0.00000000e+00,  0.00000000e+00,  4.94970195e-02,  0.00000000e+00,\n",
       "        0.00000000e+00,  0.00000000e+00,  2.36919523e-02, -5.41029677e-02,\n",
       "       -2.29868394e-02,  0.00000000e+00,  0.00000000e+00, -3.02871875e-02,\n",
       "       -5.23815510e-03, -4.74319124e-02,  5.41308378e-03,  0.00000000e+00,\n",
       "       -8.87310364e-02, -1.84875368e-02, -5.72934596e-02, -1.40388028e-01,\n",
       "        0.00000000e+00, -3.29927709e-02,  0.00000000e+00, -2.34776625e-02,\n",
       "        0.00000000e+00,  1.46387123e-01,  0.00000000e+00,  0.00000000e+00,\n",
       "       -9.81299091e-02, -2.64356258e-02,  8.90724973e-03, -1.16188489e-02,\n",
       "        0.00000000e+00,  0.00000000e+00, -2.41141710e-03, -5.20247147e-02,\n",
       "        0.00000000e+00,  0.00000000e+00,  0.00000000e+00,  1.10276723e-01,\n",
       "        0.00000000e+00,  0.00000000e+00,  0.00000000e+00,  1.92021936e-02,\n",
       "        2.60784088e-03,  0.00000000e+00,  0.00000000e+00,  4.23360288e-02,\n",
       "       -4.44746646e-02,  8.10581075e-02,  7.65426405e-02, -1.21527394e-01,\n",
       "        0.00000000e+00,  0.00000000e+00,  0.00000000e+00, -5.04858823e-02,\n",
       "        0.00000000e+00, -2.86863504e-02,  0.00000000e+00, -8.05072138e-02,\n",
       "        0.00000000e+00,  0.00000000e+00, -3.57009998e-02, -1.83685353e-02,\n",
       "        0.00000000e+00,  0.00000000e+00,  0.00000000e+00,  1.60061360e-01,\n",
       "        0.00000000e+00, -2.66046676e-03,  0.00000000e+00, -6.21420090e-03,\n",
       "        0.00000000e+00,  0.00000000e+00,  0.00000000e+00,  0.00000000e+00,\n",
       "        3.92104723e-02, -1.47562089e-02, -1.80331259e-02, -4.88290017e-02,\n",
       "       -1.00348138e-03,  3.18559847e-01,  0.00000000e+00,  0.00000000e+00,\n",
       "        9.13181336e-02,  0.00000000e+00,  0.00000000e+00,  0.00000000e+00,\n",
       "        0.00000000e+00,  0.00000000e+00,  0.00000000e+00,  0.00000000e+00,\n",
       "        0.00000000e+00, -2.40723809e-02,  0.00000000e+00,  0.00000000e+00,\n",
       "       -2.52733432e-04,  0.00000000e+00,  0.00000000e+00,  0.00000000e+00,\n",
       "        0.00000000e+00, -2.25399352e-02, -8.50819219e-02, -1.55226795e-02,\n",
       "        0.00000000e+00, -6.66144839e-02, -1.84612682e-01,  0.00000000e+00,\n",
       "       -3.38310808e-02,  0.00000000e+00, -7.48169156e-02, -1.09485847e-01,\n",
       "       -4.64988546e-02, -1.33827079e-02, -7.23515228e-02, -9.02565121e-02,\n",
       "        0.00000000e+00,  0.00000000e+00,  0.00000000e+00,  0.00000000e+00,\n",
       "        0.00000000e+00,  0.00000000e+00,  0.00000000e+00,  0.00000000e+00,\n",
       "        0.00000000e+00, -1.15496906e-02,  0.00000000e+00, -1.65317998e-02,\n",
       "       -3.09443601e-02, -5.98408797e-02, -7.13753331e-02, -1.23239175e-01,\n",
       "        0.00000000e+00, -5.02747013e-02,  0.00000000e+00,  0.00000000e+00,\n",
       "        1.49540732e-02, -3.78667581e-02,  0.00000000e+00,  0.00000000e+00,\n",
       "        0.00000000e+00, -4.30780411e-02, -8.21219265e-02,  0.00000000e+00,\n",
       "        0.00000000e+00,  0.00000000e+00,  0.00000000e+00, -2.60281137e-02,\n",
       "       -1.02163994e-01, -7.80509367e-03,  0.00000000e+00,  0.00000000e+00,\n",
       "        6.60326957e-02,  0.00000000e+00, -8.96585265e-02, -6.42233382e-02,\n",
       "        0.00000000e+00,  0.00000000e+00,  0.00000000e+00,  7.60246085e-02])"
      ]
     },
     "execution_count": 254,
     "metadata": {},
     "output_type": "execute_result"
    }
   ],
   "source": [
    "model.coef_[1]"
   ]
  },
  {
   "cell_type": "markdown",
   "metadata": {},
   "source": [
    "#### Coefficients of class 2"
   ]
  },
  {
   "cell_type": "code",
   "execution_count": 255,
   "metadata": {},
   "outputs": [
    {
     "data": {
      "text/plain": [
       "array([ 0.        ,  0.        ,  0.        ,  0.        ,  0.        ,\n",
       "        0.        ,  0.16470642,  0.        ,  0.        ,  0.        ,\n",
       "        0.        ,  0.        ,  0.        ,  0.        ,  0.        ,\n",
       "        0.        ,  0.        ,  0.0434452 ,  0.        ,  0.        ,\n",
       "        0.        ,  0.        ,  0.        ,  0.        ,  0.        ,\n",
       "        0.        ,  0.        ,  0.        ,  0.        ,  0.        ,\n",
       "        0.        ,  0.        ,  0.        ,  0.17237825,  0.        ,\n",
       "        0.        ,  0.        ,  0.        ,  0.        ,  0.        ,\n",
       "       -0.14084037,  0.        ,  0.        ,  0.        ,  0.        ,\n",
       "        0.        ,  0.        ,  0.        ,  0.        ,  0.        ,\n",
       "        0.        ,  0.        ,  0.        ,  0.        ,  0.        ,\n",
       "        0.        ,  0.        ,  0.        ,  0.        ,  0.        ,\n",
       "        0.        ,  0.        ,  0.        ,  0.        , -0.09964319,\n",
       "        0.        ,  0.        ,  0.        ,  0.        , -0.128826  ,\n",
       "        0.        ,  0.10253518, -0.03392286,  0.        ,  0.        ,\n",
       "        0.        ,  0.        ,  0.        ,  0.        ,  0.        ,\n",
       "       -0.10990746,  0.        ,  0.        ,  0.        ,  0.        ,\n",
       "        0.        ,  0.        ,  0.        ,  0.        ,  0.        ,\n",
       "        0.        ,  0.        ,  0.        ,  0.        ,  0.        ,\n",
       "        0.        ,  0.        ,  0.        ,  0.        ,  0.        ,\n",
       "        0.        ,  0.        ,  0.        ,  0.        ,  0.        ,\n",
       "        0.        ,  0.        ,  0.        ,  0.        ,  0.        ,\n",
       "        0.        ,  0.        ,  0.        ,  0.        ,  0.        ,\n",
       "        0.        ,  0.        ,  0.        ,  0.        ,  0.        ,\n",
       "        0.        ,  0.        ,  0.        ,  0.        ,  0.        ,\n",
       "        0.        ,  0.        ,  0.        ,  0.        ,  0.        ,\n",
       "        0.        ,  0.        ,  0.        ,  0.        ,  0.        ,\n",
       "        0.        ,  0.        ,  0.        ,  0.        ,  0.        ,\n",
       "        0.        ,  0.        ,  0.        , -0.03005133,  0.        ,\n",
       "        0.        ,  0.        ,  0.        ,  0.        ,  0.        ,\n",
       "        0.        ,  0.        ,  0.        ,  0.        ,  0.        ,\n",
       "        0.        ,  0.        ,  0.        ,  0.        ,  0.        ,\n",
       "        0.        ,  0.        ,  0.        ,  0.        ,  0.        ,\n",
       "        0.        ,  0.        ,  0.        ,  0.        ,  0.        ,\n",
       "        0.        ,  0.        ,  0.        ,  0.        , -0.00708743,\n",
       "        0.        ,  0.        ,  0.        ,  0.        ,  0.        ,\n",
       "        0.        ,  0.        ,  0.        ,  0.        ,  0.        ,\n",
       "        0.        ,  0.        ,  0.        ,  0.        ,  0.        ,\n",
       "        0.        ,  0.        ,  0.        ,  0.        ,  0.        ,\n",
       "        0.        ,  0.        ,  0.        ,  0.        ,  0.        ])"
      ]
     },
     "execution_count": 255,
     "metadata": {},
     "output_type": "execute_result"
    }
   ],
   "source": [
    "model.coef_[2]"
   ]
  },
  {
   "cell_type": "markdown",
   "metadata": {},
   "source": [
    "#### Coefficients of class 3"
   ]
  },
  {
   "cell_type": "code",
   "execution_count": 256,
   "metadata": {},
   "outputs": [
    {
     "data": {
      "text/plain": [
       "array([-3.96850103e-02,  4.88048817e-02,  2.33745825e-02,  4.06145885e-02,\n",
       "       -5.18834429e-02, -1.47052753e-03,  3.01423190e-03,  3.16508086e-02,\n",
       "       -2.85837034e-01, -3.12668417e-02,  1.01354477e-02, -3.81010556e-02,\n",
       "        3.34795224e-02, -4.73689872e-02,  1.24744078e-01, -1.74713724e-02,\n",
       "       -3.58600926e-02, -1.15846508e-01, -3.13978811e-02,  1.23826445e-01,\n",
       "        8.51868401e-03, -8.89524586e-02, -9.72703032e-02,  1.36453339e-02,\n",
       "       -2.92805572e-02,  1.75294258e-01, -1.67364390e-01,  1.62184572e-02,\n",
       "       -3.21892537e-02,  2.27820688e-02, -1.22033482e-01,  0.00000000e+00,\n",
       "        5.10916641e-02, -9.01440139e-04,  1.09611276e-01, -2.30893294e-02,\n",
       "        7.71427470e-03,  5.41041383e-04, -1.04380358e-01,  0.00000000e+00,\n",
       "        2.79064529e-02, -2.64143817e-02, -3.22290091e-02,  4.75317412e-02,\n",
       "        1.14661325e-02,  3.94297017e-02, -6.86939896e-02,  1.86175229e-02,\n",
       "       -1.67583094e-02,  1.63091244e-01, -6.23495269e-02, -1.84049398e-02,\n",
       "       -1.21649512e-01, -8.02954242e-02, -8.31865571e-02,  9.48448794e-02,\n",
       "       -3.12757280e-02,  0.00000000e+00, -1.04544994e-02, -2.33674257e-01,\n",
       "       -9.50210700e-02, -1.19633881e-02, -4.16223687e-02, -1.30948388e-01,\n",
       "       -6.70028154e-03, -1.76564257e-01, -8.36345390e-02,  8.39651597e-02,\n",
       "       -2.30870903e-03, -1.03922242e-02,  1.53175572e-01,  3.83427526e-02,\n",
       "       -2.64382607e-02,  0.00000000e+00,  0.00000000e+00, -1.48152895e-02,\n",
       "       -2.16319172e-01, -1.52510899e-01,  2.95115197e-02, -3.01953132e-02,\n",
       "       -2.71263903e-02,  1.50160406e-01, -1.15766636e-01, -1.90633229e-02,\n",
       "        1.39360074e-01, -2.82679475e-02,  1.37272695e-01,  8.74081231e-02,\n",
       "       -6.09805938e-02, -4.78246712e-02, -3.14231639e-02, -3.15144696e-02,\n",
       "       -3.11639276e-03, -1.13827169e-02, -2.89036819e-02,  6.54752473e-02,\n",
       "       -6.52859289e-02, -3.55526409e-03, -1.01288206e-01, -1.18088761e-01,\n",
       "       -1.81801089e-01, -2.83401730e-01, -1.52458721e-01,  7.71661473e-02,\n",
       "       -8.00418907e-03, -3.83459717e-01, -8.81658802e-03, -1.65990984e-01,\n",
       "        2.28550337e-02, -5.55995666e-02, -1.88997980e-01,  1.60647249e-02,\n",
       "        3.63232018e-02,  4.08217392e-01, -6.52632607e-02, -3.57850798e-02,\n",
       "       -9.05161371e-02,  6.96726867e-02, -5.78573761e-02,  2.51385011e-01,\n",
       "       -8.51874666e-03, -2.12949350e-01,  2.57374927e-02, -6.53327190e-03,\n",
       "       -5.58007715e-02,  1.99838413e-02, -1.69349426e-01, -3.17856681e-04,\n",
       "        1.27066780e-01, -1.23255153e-01, -1.77002765e-02,  1.29712033e-01,\n",
       "        3.06505330e-02, -2.78140694e-03,  1.21936732e-01,  0.00000000e+00,\n",
       "       -2.53699827e-02, -8.78919395e-02, -1.91667707e-03, -5.03354478e-02,\n",
       "        4.28582781e-02, -8.91227559e-03, -5.59907331e-02,  3.84295064e-03,\n",
       "        7.96593802e-03, -1.02348007e-01,  1.61402012e-01,  6.33460675e-02,\n",
       "       -6.26033724e-02,  1.60996600e-01,  3.56573845e-01,  1.72639547e-01,\n",
       "       -3.95030226e-02,  2.18990623e-01,  2.36133490e-01, -3.42221125e-02,\n",
       "        8.71236587e-02, -4.89813194e-02,  8.67072739e-02,  0.00000000e+00,\n",
       "       -9.84944272e-02, -6.15533028e-02, -1.29436458e-01,  1.64947730e-03,\n",
       "       -8.60729748e-02,  1.19589574e-01,  1.33708659e-02,  2.07723033e-02,\n",
       "        1.16778484e-02,  8.99644794e-02,  3.28215033e-03, -8.51172274e-02,\n",
       "        7.04914795e-02,  3.06278736e-02, -6.08671551e-04,  1.35260994e-01,\n",
       "        4.87505614e-02, -4.20469485e-02,  1.04754018e-02,  3.75805139e-02,\n",
       "        9.26738657e-02,  4.20340136e-04, -2.17156712e-02,  1.65720918e-01,\n",
       "       -1.56260708e-03, -7.51355173e-02,  5.88677470e-03,  0.00000000e+00,\n",
       "        1.49997920e-02,  1.08275044e-02, -1.40477597e-02,  9.50708854e-02,\n",
       "       -1.16439881e-02, -1.34062185e-01,  1.91030157e-02, -4.24596850e-02,\n",
       "        2.66705516e-02, -1.47741414e-02, -8.06904368e-02, -8.45108820e-02])"
      ]
     },
     "execution_count": 256,
     "metadata": {},
     "output_type": "execute_result"
    }
   ],
   "source": [
    "model.coef_[3]"
   ]
  },
  {
   "cell_type": "markdown",
   "metadata": {},
   "source": [
    "#### Coefficients of class 4"
   ]
  },
  {
   "cell_type": "code",
   "execution_count": 257,
   "metadata": {},
   "outputs": [
    {
     "data": {
      "text/plain": [
       "array([ 0.        ,  0.        ,  0.        ,  0.        ,  0.        ,\n",
       "        0.        ,  0.        ,  0.        ,  0.        ,  0.        ,\n",
       "        0.        ,  0.        ,  0.        , -0.09569941,  0.        ,\n",
       "        0.        ,  0.        ,  0.        ,  0.        ,  0.        ,\n",
       "        0.        ,  0.        ,  0.        ,  0.        ,  0.        ,\n",
       "        0.        ,  0.        ,  0.        ,  0.        ,  0.        ,\n",
       "        0.        ,  0.        ,  0.        ,  0.        ,  0.        ,\n",
       "        0.        ,  0.        ,  0.        ,  0.        ,  0.        ,\n",
       "        0.        ,  0.        ,  0.        ,  0.        ,  0.        ,\n",
       "        0.        ,  0.        ,  0.        ,  0.        ,  0.        ,\n",
       "        0.        ,  0.        ,  0.        ,  0.        ,  0.        ,\n",
       "        0.        ,  0.        ,  0.        ,  0.        ,  0.        ,\n",
       "        0.        ,  0.        ,  0.        ,  0.        ,  0.        ,\n",
       "        0.        ,  0.        ,  0.        ,  0.        ,  0.        ,\n",
       "        0.        ,  0.        ,  0.        ,  0.        , -0.1769782 ,\n",
       "        0.        ,  0.        ,  0.        ,  0.        ,  0.        ,\n",
       "        0.        ,  0.        ,  0.        ,  0.        ,  0.        ,\n",
       "        0.        ,  0.        ,  0.        ,  0.        ,  0.        ,\n",
       "        0.        ,  0.        ,  0.        ,  0.        ,  0.        ,\n",
       "        0.        ,  0.        ,  0.        ,  0.19773159,  0.        ,\n",
       "        0.        ,  0.        ,  0.        ,  0.        ,  0.        ,\n",
       "        0.        ,  0.        ,  0.        ,  0.        ,  0.        ,\n",
       "        0.        ,  0.        ,  0.        ,  0.        ,  0.        ,\n",
       "        0.        ,  0.        ,  0.        ,  0.        ,  0.        ,\n",
       "        0.        ,  0.        ,  0.        ,  0.        ,  0.        ,\n",
       "        0.        ,  0.        ,  0.        ,  0.        ,  0.        ,\n",
       "        0.        ,  0.        ,  0.        ,  0.        ,  0.        ,\n",
       "        0.        ,  0.        ,  0.        ,  0.        ,  0.        ,\n",
       "        0.        ,  0.        ,  0.        ,  0.        ,  0.        ,\n",
       "        0.        ,  0.        ,  0.        ,  0.        ,  0.        ,\n",
       "        0.        ,  0.        ,  0.        ,  0.        ,  0.        ,\n",
       "        0.        ,  0.        ,  0.        ,  0.        ,  0.        ,\n",
       "        0.        ,  0.        ,  0.        ,  0.        ,  0.        ,\n",
       "        0.        ,  0.        ,  0.        ,  0.        ,  0.        ,\n",
       "        0.        ,  0.        ,  0.        ,  0.        ,  0.        ,\n",
       "        0.        ,  0.        ,  0.        ,  0.        ,  0.        ,\n",
       "        0.        ,  0.        ,  0.        ,  0.        ,  0.        ,\n",
       "        0.        ,  0.        ,  0.        ,  0.        ,  0.        ,\n",
       "        0.        ,  0.        ,  0.        ,  0.        ,  0.        ,\n",
       "        0.        ,  0.        ,  0.        ,  0.        ,  0.        ])"
      ]
     },
     "execution_count": 257,
     "metadata": {},
     "output_type": "execute_result"
    }
   ],
   "source": [
    "model.coef_[4]"
   ]
  },
  {
   "cell_type": "code",
   "execution_count": 275,
   "metadata": {},
   "outputs": [
    {
     "name": "stdout",
     "output_type": "stream",
     "text": [
      "0\n",
      "1\n",
      "2\n",
      "3\n",
      "4\n",
      "5\n",
      "6\n",
      "7\n",
      "8\n",
      "9\n",
      "10\n",
      "11\n",
      "12\n",
      "13\n",
      "14\n",
      "15\n",
      "16\n",
      "17\n",
      "18\n",
      "19\n",
      "20\n",
      "21\n",
      "22\n",
      "23\n",
      "24\n",
      "25\n",
      "26\n",
      "27\n",
      "28\n",
      "29\n",
      "30\n",
      "31\n",
      "32\n",
      "33\n",
      "34\n",
      "35\n",
      "36\n",
      "37\n",
      "38\n",
      "39\n",
      "40\n",
      "41\n",
      "42\n",
      "43\n",
      "44\n",
      "45\n",
      "46\n",
      "47\n",
      "48\n",
      "49\n"
     ]
    }
   ],
   "source": [
    "M = 50\n",
    "n = 300 #size of each bootstrap sample\n",
    "#Create coefficient lists for each class\n",
    "coef_list0 = []\n",
    "coef_list1 = []\n",
    "coef_list2 = []\n",
    "coef_list3 = []\n",
    "coef_list4 = []\n",
    "for m in range(M):\n",
    "    print(m)\n",
    "  # Get random sample with replacement\n",
    "    index = np.random.choice(len(data_new),n,replace=True)\n",
    "    X_boot = data_new[index]\n",
    "    y_boot = labels.iloc[index]\n",
    "    X_train, X_test, y_train, y_test = train_test_split(X_boot, y_boot, test_size = 0.3)\n",
    "    C_values = np.logspace(-4, 4, 30)\n",
    "    model = LogisticRegressionCV(cv = 5,penalty = 'l1', multi_class = 'ovr', solver = 'liblinear', intercept_scaling = 10000, \n",
    "                             Cs = C_values, scoring = 'f1_micro')\n",
    "    model.fit(X_boot, y_boot)\n",
    "    coef_list0.append(model.coef_[0])\n",
    "    coef_list1.append(model.coef_[1])\n",
    "    coef_list2.append(model.coef_[2])\n",
    "    coef_list3.append(model.coef_[3])\n",
    "    coef_list4.append(model.coef_[4])\n",
    "    \n",
    "    #Each list of coefficients i an array of 5 sub-array, where each subarray has 200 elements,\n",
    "    #corresponding to each of the 200 features\n",
    "    \n",
    "    \n"
   ]
  },
  {
   "cell_type": "code",
   "execution_count": null,
   "metadata": {},
   "outputs": [],
   "source": []
  },
  {
   "cell_type": "code",
   "execution_count": 276,
   "metadata": {},
   "outputs": [],
   "source": []
  },
  {
   "cell_type": "markdown",
   "metadata": {},
   "source": [
    "Since we have the coefficient lists for each class - class 0, class 1, class 2, class 3 and class 4, we now need to find a way to check how many times each feature is deemed relevant for each class i.e how many times does a feature have non zero coefficients across all the bootstrap samples. In order to do this, we create a dictionary where each key represents the index of the feature and its corresponding value is the number of times it occurs across all the bootstrap samples. Therefore 'f60':9 in the dictionary would mean that the feature at index 60 i.e the 61st feature occurred 9 times out of 50 when bootstrapping. "
   ]
  },
  {
   "cell_type": "code",
   "execution_count": 318,
   "metadata": {},
   "outputs": [],
   "source": [
    "freqs0 = {}\n",
    "for i in range(200):\n",
    "    a = 0\n",
    "    for j in range(M):\n",
    "        \n",
    "        if coef_list0[j][i]!=0:\n",
    "            a=a+1\n",
    "        \n",
    "        \n",
    "    freqs0['f'+str(i)] = a\n",
    "    "
   ]
  },
  {
   "cell_type": "code",
   "execution_count": 347,
   "metadata": {},
   "outputs": [],
   "source": [
    "freqs1 = {}\n",
    "for i in range(200):\n",
    "    a = 0\n",
    "    for j in range(M):\n",
    "        \n",
    "        if coef_list1[j][i]!=0:\n",
    "            a=a+1\n",
    "        \n",
    "        \n",
    "    freqs1['f'+str(i)] = a"
   ]
  },
  {
   "cell_type": "code",
   "execution_count": 348,
   "metadata": {},
   "outputs": [],
   "source": [
    "freqs2 = {}\n",
    "for i in range(200):\n",
    "    a = 0\n",
    "    for j in range(M):\n",
    "        \n",
    "        if coef_list2[j][i]!=0:\n",
    "            a=a+1\n",
    "        \n",
    "        \n",
    "    freqs2['f'+str(i)] = a"
   ]
  },
  {
   "cell_type": "code",
   "execution_count": 349,
   "metadata": {},
   "outputs": [],
   "source": [
    "freqs3 = {}\n",
    "for i in range(200):\n",
    "    a = 0\n",
    "    for j in range(M):\n",
    "        \n",
    "        if coef_list3[j][i]!=0:\n",
    "            a=a+1\n",
    "        \n",
    "        \n",
    "    freqs3['f'+str(i)] = a\n"
   ]
  },
  {
   "cell_type": "code",
   "execution_count": 350,
   "metadata": {},
   "outputs": [],
   "source": [
    "freqs4 = {}\n",
    "for i in range(200):\n",
    "    a = 0\n",
    "    for j in range(M):\n",
    "        \n",
    "        if coef_list4[j][i]!=0:\n",
    "            a=a+1\n",
    "        \n",
    "        \n",
    "    freqs4['f'+str(i)] = a\n"
   ]
  },
  {
   "cell_type": "code",
   "execution_count": 363,
   "metadata": {},
   "outputs": [
    {
     "data": {
      "text/plain": [
       "{'f0': 0,\n",
       " 'f1': 0,\n",
       " 'f2': 1,\n",
       " 'f3': 7,\n",
       " 'f4': 1,\n",
       " 'f5': 18,\n",
       " 'f6': 2,\n",
       " 'f7': 1,\n",
       " 'f8': 4,\n",
       " 'f9': 0,\n",
       " 'f10': 7,\n",
       " 'f11': 1,\n",
       " 'f12': 2,\n",
       " 'f13': 5,\n",
       " 'f14': 13,\n",
       " 'f15': 1,\n",
       " 'f16': 3,\n",
       " 'f17': 1,\n",
       " 'f18': 0,\n",
       " 'f19': 10,\n",
       " 'f20': 0,\n",
       " 'f21': 0,\n",
       " 'f22': 0,\n",
       " 'f23': 5,\n",
       " 'f24': 10,\n",
       " 'f25': 22,\n",
       " 'f26': 1,\n",
       " 'f27': 4,\n",
       " 'f28': 5,\n",
       " 'f29': 3,\n",
       " 'f30': 0,\n",
       " 'f31': 1,\n",
       " 'f32': 7,\n",
       " 'f33': 11,\n",
       " 'f34': 5,\n",
       " 'f35': 2,\n",
       " 'f36': 0,\n",
       " 'f37': 11,\n",
       " 'f38': 2,\n",
       " 'f39': 4,\n",
       " 'f40': 5,\n",
       " 'f41': 4,\n",
       " 'f42': 3,\n",
       " 'f43': 2,\n",
       " 'f44': 0,\n",
       " 'f45': 1,\n",
       " 'f46': 4,\n",
       " 'f47': 7,\n",
       " 'f48': 2,\n",
       " 'f49': 19,\n",
       " 'f50': 0,\n",
       " 'f51': 12,\n",
       " 'f52': 1,\n",
       " 'f53': 4,\n",
       " 'f54': 4,\n",
       " 'f55': 0,\n",
       " 'f56': 2,\n",
       " 'f57': 1,\n",
       " 'f58': 31,\n",
       " 'f59': 10,\n",
       " 'f60': 9,\n",
       " 'f61': 3,\n",
       " 'f62': 1,\n",
       " 'f63': 10,\n",
       " 'f64': 15,\n",
       " 'f65': 0,\n",
       " 'f66': 0,\n",
       " 'f67': 3,\n",
       " 'f68': 0,\n",
       " 'f69': 7,\n",
       " 'f70': 23,\n",
       " 'f71': 2,\n",
       " 'f72': 17,\n",
       " 'f73': 15,\n",
       " 'f74': 19,\n",
       " 'f75': 50,\n",
       " 'f76': 0,\n",
       " 'f77': 0,\n",
       " 'f78': 1,\n",
       " 'f79': 0,\n",
       " 'f80': 13,\n",
       " 'f81': 0,\n",
       " 'f82': 0,\n",
       " 'f83': 12,\n",
       " 'f84': 20,\n",
       " 'f85': 3,\n",
       " 'f86': 50,\n",
       " 'f87': 21,\n",
       " 'f88': 10,\n",
       " 'f89': 3,\n",
       " 'f90': 2,\n",
       " 'f91': 17,\n",
       " 'f92': 23,\n",
       " 'f93': 2,\n",
       " 'f94': 0,\n",
       " 'f95': 7,\n",
       " 'f96': 5,\n",
       " 'f97': 18,\n",
       " 'f98': 46,\n",
       " 'f99': 2,\n",
       " 'f100': 0,\n",
       " 'f101': 2,\n",
       " 'f102': 49,\n",
       " 'f103': 1,\n",
       " 'f104': 0,\n",
       " 'f105': 0,\n",
       " 'f106': 0,\n",
       " 'f107': 0,\n",
       " 'f108': 1,\n",
       " 'f109': 2,\n",
       " 'f110': 0,\n",
       " 'f111': 12,\n",
       " 'f112': 7,\n",
       " 'f113': 2,\n",
       " 'f114': 23,\n",
       " 'f115': 0,\n",
       " 'f116': 0,\n",
       " 'f117': 10,\n",
       " 'f118': 0,\n",
       " 'f119': 22,\n",
       " 'f120': 3,\n",
       " 'f121': 0,\n",
       " 'f122': 13,\n",
       " 'f123': 3,\n",
       " 'f124': 7,\n",
       " 'f125': 9,\n",
       " 'f126': 0,\n",
       " 'f127': 6,\n",
       " 'f128': 3,\n",
       " 'f129': 0,\n",
       " 'f130': 14,\n",
       " 'f131': 0,\n",
       " 'f132': 0,\n",
       " 'f133': 9,\n",
       " 'f134': 0,\n",
       " 'f135': 1,\n",
       " 'f136': 5,\n",
       " 'f137': 17,\n",
       " 'f138': 2,\n",
       " 'f139': 2,\n",
       " 'f140': 4,\n",
       " 'f141': 21,\n",
       " 'f142': 1,\n",
       " 'f143': 8,\n",
       " 'f144': 3,\n",
       " 'f145': 3,\n",
       " 'f146': 4,\n",
       " 'f147': 3,\n",
       " 'f148': 5,\n",
       " 'f149': 9,\n",
       " 'f150': 19,\n",
       " 'f151': 13,\n",
       " 'f152': 41,\n",
       " 'f153': 21,\n",
       " 'f154': 2,\n",
       " 'f155': 4,\n",
       " 'f156': 0,\n",
       " 'f157': 0,\n",
       " 'f158': 0,\n",
       " 'f159': 1,\n",
       " 'f160': 5,\n",
       " 'f161': 0,\n",
       " 'f162': 0,\n",
       " 'f163': 1,\n",
       " 'f164': 1,\n",
       " 'f165': 0,\n",
       " 'f166': 5,\n",
       " 'f167': 8,\n",
       " 'f168': 2,\n",
       " 'f169': 45,\n",
       " 'f170': 0,\n",
       " 'f171': 2,\n",
       " 'f172': 2,\n",
       " 'f173': 4,\n",
       " 'f174': 10,\n",
       " 'f175': 8,\n",
       " 'f176': 16,\n",
       " 'f177': 10,\n",
       " 'f178': 5,\n",
       " 'f179': 1,\n",
       " 'f180': 50,\n",
       " 'f181': 22,\n",
       " 'f182': 24,\n",
       " 'f183': 8,\n",
       " 'f184': 5,\n",
       " 'f185': 0,\n",
       " 'f186': 8,\n",
       " 'f187': 3,\n",
       " 'f188': 1,\n",
       " 'f189': 5,\n",
       " 'f190': 5,\n",
       " 'f191': 2,\n",
       " 'f192': 8,\n",
       " 'f193': 1,\n",
       " 'f194': 17,\n",
       " 'f195': 29,\n",
       " 'f196': 4,\n",
       " 'f197': 0,\n",
       " 'f198': 0,\n",
       " 'f199': 4}"
      ]
     },
     "execution_count": 363,
     "metadata": {},
     "output_type": "execute_result"
    }
   ],
   "source": [
    "freqs0"
   ]
  },
  {
   "cell_type": "code",
   "execution_count": 378,
   "metadata": {},
   "outputs": [],
   "source": [
    "class0_topfeatures = sorted(freqs0, key=freqs0.get, reverse=True)[:5]\n",
    "class1_topfeatures = sorted(freqs1, key=freqs1.get, reverse=True)[:5]\n",
    "class2_topfeatures = sorted(freqs2, key=freqs2.get, reverse=True)[:5]\n",
    "class3_topfeatures = sorted(freqs3, key=freqs3.get, reverse=True)[:5]\n",
    "class4_topfeatures = sorted(freqs4, key=freqs4.get, reverse=True)[:3]\n"
   ]
  },
  {
   "cell_type": "code",
   "execution_count": 352,
   "metadata": {},
   "outputs": [
    {
     "name": "stdout",
     "output_type": "stream",
     "text": [
      "The top 5 features for class 0 are: \n",
      "['f75', 'f86', 'f180', 'f102', 'f98']\n",
      "\n",
      "\n",
      "The top 5 features for class 1 are: \n",
      "['f58', 'f3', 'f195', 'f117', 'f65']\n",
      "\n",
      "\n",
      "The top 5 features for class 2 are: \n",
      "['f40', 'f69', 'f6', 'f33', 'f80']\n",
      "\n",
      "\n",
      "The top 5 features for class 3 are: \n",
      "['f153', 'f195', 'f58', 'f114', 'f59']\n",
      "\n",
      "\n",
      "The top 5 features for class 4 are: \n",
      "['f13', 'f74', 'f98', 'f0', 'f1']\n",
      "\n",
      "\n"
     ]
    }
   ],
   "source": [
    "print('The top 5 features for class 0 are: ')\n",
    "print(class0_topfeatures)\n",
    "print('\\n')\n",
    "print('The top 5 features for class 1 are: ')\n",
    "print(class1_topfeatures)\n",
    "print('\\n')\n",
    "print('The top 5 features for class 2 are: ')\n",
    "print(class2_topfeatures)\n",
    "print('\\n')\n",
    "print('The top 5 features for class 3 are: ')\n",
    "print(class3_topfeatures)\n",
    "print('\\n')\n",
    "print('The top 5 features for class 4 are: ')\n",
    "print(class4_topfeatures)\n",
    "print('\\n')"
   ]
  },
  {
   "cell_type": "code",
   "execution_count": 372,
   "metadata": {},
   "outputs": [
    {
     "data": {
      "text/plain": [
       "<matplotlib.axes._subplots.AxesSubplot at 0x21f23ae4b88>"
      ]
     },
     "execution_count": 372,
     "metadata": {},
     "output_type": "execute_result"
    },
    {
     "data": {
      "image/png": "[encoded data removed]",
      "text/plain": [
       "<Figure size 576x432 with 1 Axes>"
      ]
     },
     "metadata": {
      "needs_background": "light"
     },
     "output_type": "display_data"
    }
   ],
   "source": [
    "class0_topfreqs = []\n",
    "for i in class0_topfeatures:\n",
    "    class0_topfreqs.append(freqs0[i])\n",
    "plt.figure(figsize = (8,6))\n",
    "plt.xlabel('Top features')\n",
    "plt.ylabel('Frequency')\n",
    "plt.title('Top features for class0')    \n",
    "sns.barplot(x = class0_topfeatures, y = class0_topfreqs )"
   ]
  },
  {
   "cell_type": "code",
   "execution_count": 371,
   "metadata": {},
   "outputs": [
    {
     "data": {
      "text/plain": [
       "<matplotlib.axes._subplots.AxesSubplot at 0x21f2c4be5c8>"
      ]
     },
     "execution_count": 371,
     "metadata": {},
     "output_type": "execute_result"
    },
    {
     "data": {
      "image/png": "[encoded data removed]",
      "text/plain": [
       "<Figure size 576x432 with 1 Axes>"
      ]
     },
     "metadata": {
      "needs_background": "light"
     },
     "output_type": "display_data"
    }
   ],
   "source": [
    "class1_topfreqs = []\n",
    "for i in class1_topfeatures:\n",
    "    class1_topfreqs.append(freqs1[i])\n",
    "plt.figure(figsize = (8,6))\n",
    "plt.xlabel('Top features')\n",
    "plt.ylabel('Frequency')\n",
    "plt.title('Top features for class1')\n",
    "sns.barplot(x = class1_topfeatures, y = class1_topfreqs )"
   ]
  },
  {
   "cell_type": "code",
   "execution_count": 375,
   "metadata": {},
   "outputs": [
    {
     "data": {
      "text/plain": [
       "<matplotlib.axes._subplots.AxesSubplot at 0x21f2124e508>"
      ]
     },
     "execution_count": 375,
     "metadata": {},
     "output_type": "execute_result"
    },
    {
     "data": {
      "image/png": "[encoded data removed]",
      "text/plain": [
       "<Figure size 576x432 with 1 Axes>"
      ]
     },
     "metadata": {
      "needs_background": "light"
     },
     "output_type": "display_data"
    }
   ],
   "source": [
    "class2_topfreqs = []\n",
    "for i in class2_topfeatures:\n",
    "    class2_topfreqs.append(freqs2[i])\n",
    "plt.figure(figsize = (8,6))\n",
    "plt.xlabel('Top features')\n",
    "plt.ylabel('Frequency')\n",
    "plt.title('Top features for class2')    \n",
    "sns.barplot(x = class2_topfeatures, y = class2_topfreqs )"
   ]
  },
  {
   "cell_type": "code",
   "execution_count": 376,
   "metadata": {},
   "outputs": [
    {
     "data": {
      "text/plain": [
       "<matplotlib.axes._subplots.AxesSubplot at 0x21f21ed5948>"
      ]
     },
     "execution_count": 376,
     "metadata": {},
     "output_type": "execute_result"
    },
    {
     "data": {
      "image/png": "[encoded data removed]",
      "text/plain": [
       "<Figure size 576x432 with 1 Axes>"
      ]
     },
     "metadata": {
      "needs_background": "light"
     },
     "output_type": "display_data"
    }
   ],
   "source": [
    "class3_topfreqs = []\n",
    "for i in class3_topfeatures:\n",
    "    class3_topfreqs.append(freqs3[i])\n",
    "plt.figure(figsize = (8,6))\n",
    "plt.xlabel('Top features')\n",
    "plt.ylabel('Frequency')\n",
    "plt.title('Top features for class3')    \n",
    "sns.barplot(x = class3_topfeatures, y = class3_topfreqs )"
   ]
  },
  {
   "cell_type": "code",
   "execution_count": 379,
   "metadata": {},
   "outputs": [
    {
     "data": {
      "text/plain": [
       "<matplotlib.axes._subplots.AxesSubplot at 0x21f303cef48>"
      ]
     },
     "execution_count": 379,
     "metadata": {},
     "output_type": "execute_result"
    },
    {
     "data": {
      "image/png": "[encoded data removed]",
      "text/plain": [
       "<Figure size 576x432 with 1 Axes>"
      ]
     },
     "metadata": {
      "needs_background": "light"
     },
     "output_type": "display_data"
    }
   ],
   "source": [
    "class4_topfreqs = []\n",
    "for i in class4_topfeatures:\n",
    "    class4_topfreqs.append(freqs4[i])\n",
    "plt.figure(figsize = (8,6))\n",
    "plt.xlabel('Top features')\n",
    "plt.ylabel('Frequency')\n",
    "plt.title('Top features for class4')      \n",
    "sns.barplot(x = class4_topfeatures, y = class4_topfreqs )"
   ]
  },
  {
   "cell_type": "code",
   "execution_count": null,
   "metadata": {},
   "outputs": [],
   "source": []
  }
 ],
 "metadata": {
  "kernelspec": {
   "display_name": "Python 3",
   "language": "python",
   "name": "python3"
  },
  "language_info": {
   "codemirror_mode": {
    "name": "ipython",
    "version": 3
   },
   "file_extension": ".py",
   "mimetype": "text/x-python",
   "name": "python",
   "nbconvert_exporter": "python",
   "pygments_lexer": "ipython3",
   "version": "3.7.4"
  }
 },
 "nbformat": 4,
 "nbformat_minor": 2
}
